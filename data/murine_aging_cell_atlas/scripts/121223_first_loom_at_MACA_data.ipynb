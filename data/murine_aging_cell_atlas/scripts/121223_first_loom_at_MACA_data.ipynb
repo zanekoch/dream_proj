{
 "cells": [
  {
   "cell_type": "code",
   "execution_count": 1,
   "metadata": {},
   "outputs": [
    {
     "name": "stderr",
     "output_type": "stream",
     "text": [
      "/cellar/users/zkoch/miniconda3/envs/scRNA2/lib/python3.11/site-packages/anndata/core/anndata.py:17: FutureWarning: pandas.core.index is deprecated and will be removed in a future version. The public classes are available in the top-level namespace.\n",
      "  from pandas.core.index import RangeIndex\n"
     ]
    },
    {
     "name": "stdout",
     "output_type": "stream",
     "text": [
      "0.6.22.post1\n"
     ]
    },
    {
     "name": "stderr",
     "output_type": "stream",
     "text": [
      "/cellar/users/zkoch/miniconda3/envs/scRNA2/lib/python3.11/site-packages/h5py/__init__.py:36: UserWarning: h5py is running against HDF5 1.14.3 when it was built against 1.14.2, this may cause problems\n",
      "  _warn((\"h5py is running against HDF5 {0} when it was built against {1}, \"\n"
     ]
    }
   ],
   "source": [
    "import numpy as np\n",
    "import pandas as pd\n",
    "import anndata as ad\n",
    "from scipy.sparse import csr_matrix\n",
    "print(ad.__version__)"
   ]
  },
  {
   "cell_type": "code",
   "execution_count": 17,
   "metadata": {},
   "outputs": [
    {
     "ename": "ImportError",
     "evalue": "Numba needs NumPy 1.24 or less",
     "output_type": "error",
     "traceback": [
      "\u001b[0;31m---------------------------------------------------------------------------\u001b[0m",
      "\u001b[0;31mImportError\u001b[0m                               Traceback (most recent call last)",
      "\u001b[1;32m/cellar/users/zkoch/dream/murine_aging_cell_atlas/scripts/121223_first_loom_at_MACA_data.ipynb Cell 2\u001b[0m line \u001b[0;36m1\n\u001b[0;32m----> <a href='vscode-notebook-cell://ssh-remote%2Bnrnb-cn-06/cellar/users/zkoch/dream/murine_aging_cell_atlas/scripts/121223_first_loom_at_MACA_data.ipynb#W6sdnNjb2RlLXJlbW90ZQ%3D%3D?line=0'>1</a>\u001b[0m \u001b[39mimport\u001b[39;00m \u001b[39mcellxgene_census\u001b[39;00m\n",
      "File \u001b[0;32m~/miniconda3/envs/scRNA2/lib/python3.11/site-packages/cellxgene_census/__init__.py:25\u001b[0m\n\u001b[1;32m      1\u001b[0m \u001b[39m\"\"\"\u001b[39;00m\n\u001b[1;32m      2\u001b[0m \u001b[39mAn API to facilitate use of the CZI Science CELLxGENE Census. The Census is a versioned container of single-cell data hosted at `CELLxGENE Discover`_.\u001b[39;00m\n\u001b[1;32m      3\u001b[0m \n\u001b[0;32m   (...)\u001b[0m\n\u001b[1;32m     20\u001b[0m \u001b[39m    https://github.com/single-cell-data/TileDB-SOMA\u001b[39;00m\n\u001b[1;32m     21\u001b[0m \u001b[39m\"\"\"\u001b[39;00m\n\u001b[1;32m     23\u001b[0m \u001b[39mfrom\u001b[39;00m \u001b[39mimportlib\u001b[39;00m \u001b[39mimport\u001b[39;00m metadata\n\u001b[0;32m---> 25\u001b[0m \u001b[39mfrom\u001b[39;00m \u001b[39m.\u001b[39;00m\u001b[39m_get_anndata\u001b[39;00m \u001b[39mimport\u001b[39;00m get_anndata\n\u001b[1;32m     26\u001b[0m \u001b[39mfrom\u001b[39;00m \u001b[39m.\u001b[39;00m\u001b[39m_open\u001b[39;00m \u001b[39mimport\u001b[39;00m download_source_h5ad, get_source_h5ad_uri, open_soma\n\u001b[1;32m     27\u001b[0m \u001b[39mfrom\u001b[39;00m \u001b[39m.\u001b[39;00m\u001b[39m_presence_matrix\u001b[39;00m \u001b[39mimport\u001b[39;00m get_presence_matrix\n",
      "File \u001b[0;32m~/miniconda3/envs/scRNA2/lib/python3.11/site-packages/cellxgene_census/_get_anndata.py:12\u001b[0m\n\u001b[1;32m      9\u001b[0m \u001b[39mfrom\u001b[39;00m \u001b[39mtyping\u001b[39;00m \u001b[39mimport\u001b[39;00m Optional, Sequence\n\u001b[1;32m     11\u001b[0m \u001b[39mimport\u001b[39;00m \u001b[39manndata\u001b[39;00m\n\u001b[0;32m---> 12\u001b[0m \u001b[39mimport\u001b[39;00m \u001b[39mtiledbsoma\u001b[39;00m \u001b[39mas\u001b[39;00m \u001b[39msoma\u001b[39;00m\n\u001b[1;32m     13\u001b[0m \u001b[39mfrom\u001b[39;00m \u001b[39msomacore\u001b[39;00m\u001b[39m.\u001b[39;00m\u001b[39moptions\u001b[39;00m \u001b[39mimport\u001b[39;00m SparseDFCoord\n\u001b[1;32m     15\u001b[0m \u001b[39mfrom\u001b[39;00m \u001b[39m.\u001b[39;00m\u001b[39m_experiment\u001b[39;00m \u001b[39mimport\u001b[39;00m _get_experiment\n",
      "File \u001b[0;32m~/miniconda3/envs/scRNA2/lib/python3.11/site-packages/tiledbsoma/__init__.py:96\u001b[0m\n\u001b[1;32m      1\u001b[0m \u001b[39m\"\"\"SOMA powered by TileDB\u001b[39;00m\n\u001b[1;32m      2\u001b[0m \n\u001b[1;32m      3\u001b[0m \u001b[39mSOMA --- stack of matrices, annotated --- is a flexible, extensible, and\u001b[39;00m\n\u001b[0;32m   (...)\u001b[0m\n\u001b[1;32m     89\u001b[0m \u001b[39m:class:`ValueError`.\u001b[39;00m\n\u001b[1;32m     90\u001b[0m \u001b[39m\"\"\"\u001b[39;00m\n\u001b[1;32m     92\u001b[0m \u001b[39m# ^^ the rest is autogen whether viewed from Python on-line help, Sphinx/readthedocs, etc.  It's\u001b[39;00m\n\u001b[1;32m     93\u001b[0m \u001b[39m# crucial that we include a separator (e.g. \"Classes and functions\") to make an entry in the\u001b[39;00m\n\u001b[1;32m     94\u001b[0m \u001b[39m# readthedocs table of contents.\u001b[39;00m\n\u001b[0;32m---> 96\u001b[0m \u001b[39mfrom\u001b[39;00m \u001b[39msomacore\u001b[39;00m \u001b[39mimport\u001b[39;00m AxisColumnNames, AxisQuery, ExperimentAxisQuery\n\u001b[1;32m     97\u001b[0m \u001b[39mfrom\u001b[39;00m \u001b[39msomacore\u001b[39;00m\u001b[39m.\u001b[39;00m\u001b[39moptions\u001b[39;00m \u001b[39mimport\u001b[39;00m ResultOrder\n\u001b[1;32m     99\u001b[0m \u001b[39m# TODO: once we no longer support Python 3.7, remove this and pin to pyarrow >= 14.0.1\u001b[39;00m\n\u001b[1;32m    100\u001b[0m \u001b[39m# https://github.com/single-cell-data/TileDB-SOMA/issues/1926\u001b[39;00m\n\u001b[1;32m    101\u001b[0m \u001b[39m# ruff: noqa\u001b[39;00m\n",
      "File \u001b[0;32m~/miniconda3/envs/scRNA2/lib/python3.11/site-packages/somacore/__init__.py:25\u001b[0m\n\u001b[1;32m     23\u001b[0m \u001b[39mfrom\u001b[39;00m \u001b[39m.\u001b[39;00m\u001b[39mdata\u001b[39;00m \u001b[39mimport\u001b[39;00m SparseNDArray\n\u001b[1;32m     24\u001b[0m \u001b[39mfrom\u001b[39;00m \u001b[39m.\u001b[39;00m\u001b[39mdata\u001b[39;00m \u001b[39mimport\u001b[39;00m SparseRead\n\u001b[0;32m---> 25\u001b[0m \u001b[39mfrom\u001b[39;00m \u001b[39m.\u001b[39;00m\u001b[39mexperiment\u001b[39;00m \u001b[39mimport\u001b[39;00m Experiment\n\u001b[1;32m     26\u001b[0m \u001b[39mfrom\u001b[39;00m \u001b[39m.\u001b[39;00m\u001b[39mmeasurement\u001b[39;00m \u001b[39mimport\u001b[39;00m Measurement\n\u001b[1;32m     27\u001b[0m \u001b[39mfrom\u001b[39;00m \u001b[39m.\u001b[39;00m\u001b[39moptions\u001b[39;00m \u001b[39mimport\u001b[39;00m BatchSize\n",
      "File \u001b[0;32m~/miniconda3/envs/scRNA2/lib/python3.11/site-packages/somacore/experiment.py:10\u001b[0m\n\u001b[1;32m      8\u001b[0m \u001b[39mfrom\u001b[39;00m \u001b[39m.\u001b[39;00m \u001b[39mimport\u001b[39;00m data\n\u001b[1;32m      9\u001b[0m \u001b[39mfrom\u001b[39;00m \u001b[39m.\u001b[39;00m \u001b[39mimport\u001b[39;00m measurement\n\u001b[0;32m---> 10\u001b[0m \u001b[39mfrom\u001b[39;00m \u001b[39m.\u001b[39;00m \u001b[39mimport\u001b[39;00m query\n\u001b[1;32m     12\u001b[0m _DF \u001b[39m=\u001b[39m TypeVar(\u001b[39m\"\u001b[39m\u001b[39m_DF\u001b[39m\u001b[39m\"\u001b[39m, bound\u001b[39m=\u001b[39mdata\u001b[39m.\u001b[39mDataFrame)\n\u001b[1;32m     13\u001b[0m \u001b[39m\"\"\"An implementation of a DataFrame.\"\"\"\u001b[39;00m\n",
      "File \u001b[0;32m~/miniconda3/envs/scRNA2/lib/python3.11/site-packages/somacore/query/__init__.py:2\u001b[0m\n\u001b[1;32m      1\u001b[0m \u001b[39mfrom\u001b[39;00m \u001b[39m.\u001b[39;00m \u001b[39mimport\u001b[39;00m axis\n\u001b[0;32m----> 2\u001b[0m \u001b[39mfrom\u001b[39;00m \u001b[39m.\u001b[39;00m \u001b[39mimport\u001b[39;00m query\n\u001b[1;32m      4\u001b[0m ExperimentAxisQuery \u001b[39m=\u001b[39m query\u001b[39m.\u001b[39mExperimentAxisQuery\n\u001b[1;32m      5\u001b[0m AxisColumnNames \u001b[39m=\u001b[39m query\u001b[39m.\u001b[39mAxisColumnNames\n",
      "File \u001b[0;32m~/miniconda3/envs/scRNA2/lib/python3.11/site-packages/somacore/query/query.py:28\u001b[0m\n\u001b[1;32m     26\u001b[0m \u001b[39mfrom\u001b[39;00m \u001b[39m.\u001b[39;00m\u001b[39m.\u001b[39;00m \u001b[39mimport\u001b[39;00m measurement\n\u001b[1;32m     27\u001b[0m \u001b[39mfrom\u001b[39;00m \u001b[39m.\u001b[39;00m\u001b[39m.\u001b[39;00m \u001b[39mimport\u001b[39;00m options\n\u001b[0;32m---> 28\u001b[0m \u001b[39mfrom\u001b[39;00m \u001b[39m.\u001b[39;00m \u001b[39mimport\u001b[39;00m _fast_csr\n\u001b[1;32m     29\u001b[0m \u001b[39mfrom\u001b[39;00m \u001b[39m.\u001b[39;00m \u001b[39mimport\u001b[39;00m axis\n\u001b[1;32m     31\u001b[0m _RO_AUTO \u001b[39m=\u001b[39m options\u001b[39m.\u001b[39mResultOrder\u001b[39m.\u001b[39mAUTO\n",
      "File \u001b[0;32m~/miniconda3/envs/scRNA2/lib/python3.11/site-packages/somacore/query/_fast_csr.py:5\u001b[0m\n\u001b[1;32m      2\u001b[0m \u001b[39mfrom\u001b[39;00m \u001b[39mconcurrent\u001b[39;00m \u001b[39mimport\u001b[39;00m futures\n\u001b[1;32m      3\u001b[0m \u001b[39mfrom\u001b[39;00m \u001b[39mtyping\u001b[39;00m \u001b[39mimport\u001b[39;00m List, NamedTuple, Tuple, Type, cast\n\u001b[0;32m----> 5\u001b[0m \u001b[39mimport\u001b[39;00m \u001b[39mnumba\u001b[39;00m\n\u001b[1;32m      6\u001b[0m \u001b[39mimport\u001b[39;00m \u001b[39mnumba\u001b[39;00m\u001b[39m.\u001b[39;00m\u001b[39mtyped\u001b[39;00m\n\u001b[1;32m      7\u001b[0m \u001b[39mimport\u001b[39;00m \u001b[39mnumpy\u001b[39;00m \u001b[39mas\u001b[39;00m \u001b[39mnp\u001b[39;00m\n",
      "File \u001b[0;32m~/miniconda3/envs/scRNA2/lib/python3.11/site-packages/numba/__init__.py:55\u001b[0m\n\u001b[1;32m     50\u001b[0m             msg \u001b[39m=\u001b[39m (\u001b[39m\"\u001b[39m\u001b[39mNumba requires SciPy version 1.0 or greater. Got SciPy \u001b[39m\u001b[39m\"\u001b[39m\n\u001b[1;32m     51\u001b[0m                    \u001b[39mf\u001b[39m\u001b[39m\"\u001b[39m\u001b[39m{\u001b[39;00mscipy\u001b[39m.\u001b[39m__version__\u001b[39m}\u001b[39;00m\u001b[39m.\u001b[39m\u001b[39m\"\u001b[39m)\n\u001b[1;32m     52\u001b[0m             \u001b[39mraise\u001b[39;00m \u001b[39mImportError\u001b[39;00m(msg)\n\u001b[0;32m---> 55\u001b[0m _ensure_critical_deps()\n\u001b[1;32m     56\u001b[0m \u001b[39m# END DO NOT MOVE\u001b[39;00m\n\u001b[1;32m     57\u001b[0m \u001b[39m# ---------------------- WARNING WARNING WARNING ----------------------------\u001b[39;00m\n\u001b[1;32m     60\u001b[0m \u001b[39mfrom\u001b[39;00m \u001b[39m.\u001b[39;00m\u001b[39m_version\u001b[39;00m \u001b[39mimport\u001b[39;00m get_versions\n",
      "File \u001b[0;32m~/miniconda3/envs/scRNA2/lib/python3.11/site-packages/numba/__init__.py:42\u001b[0m, in \u001b[0;36m_ensure_critical_deps\u001b[0;34m()\u001b[0m\n\u001b[1;32m     40\u001b[0m     \u001b[39mraise\u001b[39;00m \u001b[39mImportError\u001b[39;00m(msg)\n\u001b[1;32m     41\u001b[0m \u001b[39melif\u001b[39;00m numpy_version \u001b[39m>\u001b[39m (\u001b[39m1\u001b[39m, \u001b[39m24\u001b[39m):\n\u001b[0;32m---> 42\u001b[0m     \u001b[39mraise\u001b[39;00m \u001b[39mImportError\u001b[39;00m(\u001b[39m\"\u001b[39m\u001b[39mNumba needs NumPy 1.24 or less\u001b[39m\u001b[39m\"\u001b[39m)\n\u001b[1;32m     43\u001b[0m \u001b[39mtry\u001b[39;00m:\n\u001b[1;32m     44\u001b[0m     \u001b[39mimport\u001b[39;00m \u001b[39mscipy\u001b[39;00m\n",
      "\u001b[0;31mImportError\u001b[0m: Numba needs NumPy 1.24 or less"
     ]
    }
   ],
   "source": [
    "import cellxgene_census"
   ]
  },
  {
   "cell_type": "code",
   "execution_count": 4,
   "metadata": {},
   "outputs": [],
   "source": [
    "# read in kidney_unfiltered.h5ad\n",
    "maca_kidney = ad.read_h5ad('/cellar/users/zkoch/dream/murine_aging_cell_atlas/data/kidney_unfiltered.h5ad')"
   ]
  },
  {
   "cell_type": "code",
   "execution_count": 16,
   "metadata": {},
   "outputs": [
    {
     "data": {
      "text/plain": [
       "(7695, 13982)"
      ]
     },
     "execution_count": 16,
     "metadata": {},
     "output_type": "execute_result"
    }
   ],
   "source": [
    "maca_kidney.X.shape"
   ]
  },
  {
   "cell_type": "code",
   "execution_count": 12,
   "metadata": {},
   "outputs": [
    {
     "data": {
      "text/plain": [
       "index\n",
       "AAACCTGCAAGCTGTT-1-0       b'old'\n",
       "AAACCTGTCGGATGTT-1-0       b'old'\n",
       "AAAGATGGTTTGTGTG-1-0       b'old'\n",
       "AAAGATGTCAGCCTAA-1-0       b'old'\n",
       "AAAGTAGCACCAACCG-1-0       b'old'\n",
       "                           ...   \n",
       "TTTATGCAGTTGTAGA-1-11    b'young'\n",
       "TTTATGCCATACTACG-1-11    b'young'\n",
       "TTTGCGCAGTGCGTGA-1-11    b'young'\n",
       "TTTGCGCCAGGGTTAG-1-11    b'young'\n",
       "TTTGGTTGTCACTGGC-1-11    b'young'\n",
       "Name: age, Length: 7695, dtype: category\n",
       "Categories (2, object): [b'old', b'young']"
      ]
     },
     "execution_count": 12,
     "metadata": {},
     "output_type": "execute_result"
    }
   ],
   "source": [
    "maca_kidney.obs['age']"
   ]
  },
  {
   "cell_type": "code",
   "execution_count": 11,
   "metadata": {},
   "outputs": [
    {
     "data": {
      "text/plain": [
       "(array([3042.,    0.,    0.,    0.,    0.,    0.,    0.,    0.,    0.,\n",
       "           0.,    0.,    0.,    0.,    0.,    0.,    0.,    0.,    0.,\n",
       "           0., 4653.]),\n",
       " array([0.  , 0.05, 0.1 , 0.15, 0.2 , 0.25, 0.3 , 0.35, 0.4 , 0.45, 0.5 ,\n",
       "        0.55, 0.6 , 0.65, 0.7 , 0.75, 0.8 , 0.85, 0.9 , 0.95, 1.  ]),\n",
       " <BarContainer object of 20 artists>)"
      ]
     },
     "execution_count": 11,
     "metadata": {},
     "output_type": "execute_result"
    },
    {
     "data": {
      "image/png": "[encoded data removed]",
      "text/plain": [
       "<Figure size 640x480 with 1 Axes>"
      ]
     },
     "metadata": {},
     "output_type": "display_data"
    }
   ],
   "source": [
    "# plot the age distribution\n",
    "import matplotlib.pyplot as plt\n",
    "plt.hist(maca_kidney.obs['age'], bins=20)"
   ]
  }
 ],
 "metadata": {
  "kernelspec": {
   "display_name": "dream_proj",
   "language": "python",
   "name": "python3"
  },
  "language_info": {
   "codemirror_mode": {
    "name": "ipython",
    "version": 3
   },
   "file_extension": ".py",
   "mimetype": "text/x-python",
   "name": "python",
   "nbconvert_exporter": "python",
   "pygments_lexer": "ipython3",
   "version": "3.11.6"
  }
 },
 "nbformat": 4,
 "nbformat_minor": 2
}
