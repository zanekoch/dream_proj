{
 "cells": [
  {
   "cell_type": "code",
   "execution_count": 1,
   "metadata": {},
   "outputs": [],
   "source": [
    "# use dream_proj conda environment\n",
    "import pandas as pd\n",
    "import numpy as np\n",
    "import os\n",
    "import sys\n",
    "import seaborn as sns\n",
    "import matplotlib.pyplot as plt\n",
    "import dask.dataframe as dd\n",
    "# auto reload source files\n",
    "%load_ext autoreload\n",
    "%autoreload 2\n",
    "# make docstrings from my own functions available\n",
    "#%config IPCompleter.use_jedi = True\n",
    "# add source directory to path\n",
    "source_path = os.path.abspath(os.path.join('../..'))\n",
    "if source_path not in sys.path:\n",
    "    sys.path.append(os.path.join(source_path, 'source'))\n",
    "# read source files\n",
    "import process_tcgabiolinks"
   ]
  },
  {
   "cell_type": "code",
   "execution_count": 2,
   "metadata": {},
   "outputs": [
    {
     "data": {
      "text/plain": [
       "'\\nsample_sheet[\\'first_sample_id\\'] = sample_sheet[\\'Sample ID\\'].str.split(\",\", expand = True)[0]\\nsample_sheet[\\'first_sample_type\\'] = sample_sheet[\\'Sample Type\\'].str.split(\", \", expand = True)[0]\\nsample_sheet[\\'first_case_id\\'] = sample_sheet[\\'Case ID\\'].str.split(\", \", expand = True)[0]\\nsample_sheet.to_csv(\"/cellar/users/zkoch/dream/data/tcga/manual_download/CPTAC-3/sample_sheet.tsv\", sep = \"\\t\", index = False)\\n# drop rows that are transcriptome and the file name does not contain rna_seq\\nsample_sheet = sample_sheet.query(\\n    \\'((`Data Category` != \"Transcriptome Profiling\") | (`File Name`.str.contains(\"rna_seq\") == True))\\'\\n    )\\n# drop duplicate rows of sample_sheet\\n# not considering \\'File ID\\', \\'File Name\\', \\'Sample ID\\',\\nrows_to_consider = [\\'Data Category\\', \\'Data Type\\', \\'Project ID\\', \\'Case ID\\', \\n       \\'Sample Type\\', \\'first_sample_id\\', \\'first_sample_type\\', \\'first_case_id\\']\\nsample_sheet = sample_sheet.drop_duplicates(\\n    subset = rows_to_consider, keep = \\'first\\'\\n)\\n# Drop mutation rows where first_sample_id and first_case_id are duplicated\\nmut_rows_to_keep = sample_sheet.query(\\n    \"`Data Category` == \\'Simple Nucleotide Variation\\'\"\\n    ).drop_duplicates(subset = [\\'first_case_id\\', \\'first_sample_id\\'])\\nsample_sheet = sample_sheet.query(\"`Data Category` != \\'Simple Nucleotide Variation\\'\")\\n# add back mutation rows\\nsample_sheet = pd.concat([sample_sheet, mut_rows_to_keep])\\nsample_sheet.to_csv(\"/cellar/users/zkoch/dream/data/tcga/manual_download/CPTAC-3/sample_sheet_no_duplicate_rows.tsv\", sep = \"\\t\", index = False)\\n\\n'"
      ]
     },
     "execution_count": 2,
     "metadata": {},
     "output_type": "execute_result"
    }
   ],
   "source": [
    "sample_sheet = pd.read_csv(\n",
    "    \"/cellar/users/zkoch/dream/data/tcga/manual_download/CPTAC-3/sample_sheet_no_duplicate_rows.tsv\",\n",
    "    sep = \"\\t\"\n",
    "    )\n",
    "clinical = pd.read_csv(\n",
    "    \"/cellar/users/zkoch/dream/data/tcga/manual_download/CPTAC-3/clinical.tsv\",\n",
    "    sep = \"\\t\"\n",
    "    )\n",
    "\n",
    "followup = pd.read_csv(\n",
    "    \"/cellar/users/zkoch/dream/data/tcga/manual_download/CPTAC-3/follow_up.tsv\",\n",
    "    sep = \"\\t\"\n",
    "    )\n",
    "biospecimen_sample = pd.read_csv(\n",
    "    \"/cellar/users/zkoch/dream/data/tcga/manual_download/CPTAC-3/sample.tsv\",\n",
    "    sep = \"\\t\"\n",
    "    )\n",
    "\"\"\"\n",
    "sample_sheet['first_sample_id'] = sample_sheet['Sample ID'].str.split(\",\", expand = True)[0]\n",
    "sample_sheet['first_sample_type'] = sample_sheet['Sample Type'].str.split(\", \", expand = True)[0]\n",
    "sample_sheet['first_case_id'] = sample_sheet['Case ID'].str.split(\", \", expand = True)[0]\n",
    "sample_sheet.to_csv(\"/cellar/users/zkoch/dream/data/tcga/manual_download/CPTAC-3/sample_sheet.tsv\", sep = \"\\t\", index = False)\n",
    "# drop rows that are transcriptome and the file name does not contain rna_seq\n",
    "sample_sheet = sample_sheet.query(\n",
    "    '((`Data Category` != \"Transcriptome Profiling\") | (`File Name`.str.contains(\"rna_seq\") == True))'\n",
    "    )\n",
    "# drop duplicate rows of sample_sheet\n",
    "# not considering 'File ID', 'File Name', 'Sample ID',\n",
    "rows_to_consider = ['Data Category', 'Data Type', 'Project ID', 'Case ID', \n",
    "       'Sample Type', 'first_sample_id', 'first_sample_type', 'first_case_id']\n",
    "sample_sheet = sample_sheet.drop_duplicates(\n",
    "    subset = rows_to_consider, keep = 'first'\n",
    ")\n",
    "# Drop mutation rows where first_sample_id and first_case_id are duplicated\n",
    "mut_rows_to_keep = sample_sheet.query(\n",
    "    \"`Data Category` == 'Simple Nucleotide Variation'\"\n",
    "    ).drop_duplicates(subset = ['first_case_id', 'first_sample_id'])\n",
    "sample_sheet = sample_sheet.query(\"`Data Category` != 'Simple Nucleotide Variation'\")\n",
    "# add back mutation rows\n",
    "sample_sheet = pd.concat([sample_sheet, mut_rows_to_keep])\n",
    "sample_sheet.to_csv(\"/cellar/users/zkoch/dream/data/tcga/manual_download/CPTAC-3/sample_sheet_no_duplicate_rows.tsv\", sep = \"\\t\", index = False)\n",
    "\n",
    "\"\"\"\n"
   ]
  },
  {
   "cell_type": "markdown",
   "metadata": {},
   "source": [
    "# Mutation"
   ]
  },
  {
   "cell_type": "code",
   "execution_count": 245,
   "metadata": {},
   "outputs": [
    {
     "data": {
      "text/plain": [
       "first_sample_id\n",
       "C3L-00017-31    1\n",
       "C3N-00831-31    1\n",
       "C3L-01967-31    1\n",
       "C3N-02266-01    1\n",
       "C3L-02389-01    1\n",
       "               ..\n",
       "C3L-02515-31    1\n",
       "C3N-02694-31    1\n",
       "C3L-00156-02    1\n",
       "C3L-01106-02    1\n",
       "C3L-02164-03    1\n",
       "Name: count, Length: 1277, dtype: int64"
      ]
     },
     "execution_count": 245,
     "metadata": {},
     "output_type": "execute_result"
    }
   ],
   "source": [
    "# all mutation files are uniquely identified by first_sample_id\n",
    "sample_sheet.query(\"`Data Category` == 'Simple Nucleotide Variation'\")[ 'first_sample_id'].value_counts()"
   ]
  },
  {
   "cell_type": "code",
   "execution_count": 246,
   "metadata": {},
   "outputs": [
    {
     "name": "stdout",
     "output_type": "stream",
     "text": [
      "Read 1448 files\n"
     ]
    },
    {
     "name": "stderr",
     "output_type": "stream",
     "text": [
      "/cellar/users/zkoch/dream/source/process_tcgabiolinks.py:43: FutureWarning: The behavior of DataFrame concatenation with empty or all-NA entries is deprecated. In a future version, this will no longer exclude empty or all-NA columns when determining the result dtypes. To retain the old behavior, exclude the relevant entries before the concat operation.\n",
      "  df = pd.concat(dfs, axis=0).reset_index(drop = True)\n"
     ]
    },
    {
     "name": "stdout",
     "output_type": "stream",
     "text": [
      "Saved to /cellar/users/zkoch/dream/data/tcga/processed_data/CPTAC-3_mutation.parquet\n"
     ]
    }
   ],
   "source": [
    "cptac_mutation = process_tcgabiolinks.main(\n",
    "    path = \"/cellar/users/zkoch/dream/data/tcga/GDCdata/CPTAC-3/harmonized/Simple_Nucleotide_Variation/Masked_Somatic_Mutation\",\n",
    "    dataset_name = 'CPTAC-3',\n",
    "    output_path = \"/cellar/users/zkoch/dream/data/tcga/processed_data\",\n",
    "    datatype = 'mutation',\n",
    "    sample_sheet_fn = \"/cellar/users/zkoch/dream/data/tcga/manual_download/CPTAC-3/sample_sheet_no_duplicate_rows.tsv\"\n",
    ")"
   ]
  },
  {
   "cell_type": "code",
   "execution_count": 247,
   "metadata": {},
   "outputs": [
    {
     "data": {
      "text/plain": [
       "first_sample_id\n",
       "C3L-01913-31    22327\n",
       "C3L-00586-31    13533\n",
       "C3L-02557-31    12888\n",
       "C3N-00151-03    12284\n",
       "C3N-02637-31     9291\n",
       "                ...  \n",
       "C3L-01158-31        5\n",
       "C3L-01052-31        4\n",
       "C3N-02996-02        2\n",
       "C3L-01253-71        1\n",
       "C3L-00083-31        1\n",
       "Name: count, Length: 1272, dtype: int64"
      ]
     },
     "execution_count": 247,
     "metadata": {},
     "output_type": "execute_result"
    }
   ],
   "source": [
    "# correct number of case_ids, and sample_ids don't matter for mutation data (because mutations are defined as the exclusion of 2 samples)\n",
    "cptac_mutation['first_sample_id'].value_counts()"
   ]
  },
  {
   "cell_type": "markdown",
   "metadata": {},
   "source": [
    "# Expression"
   ]
  },
  {
   "cell_type": "code",
   "execution_count": 248,
   "metadata": {},
   "outputs": [
    {
     "data": {
      "text/plain": [
       "first_sample_id\n",
       "1104806            1\n",
       "C3N-01755-11       1\n",
       "C3N-01719-04       1\n",
       "C3N-01752-02       1\n",
       "C3N-01754-03       1\n",
       "                  ..\n",
       "C3L-02701-02       1\n",
       "C3L-02669-06       1\n",
       "C3L-02669-03       1\n",
       "C3L-02665-06       1\n",
       "PT-Y8DK-01         1\n",
       "Name: count, Length: 2220, dtype: int64"
      ]
     },
     "execution_count": 248,
     "metadata": {},
     "output_type": "execute_result"
    }
   ],
   "source": [
    "# no cases where first_sample_id cannot distinguish\n",
    "sample_sheet.query(\"`Data Category` == 'Transcriptome Profiling'\")[[ 'first_sample_id']].value_counts()"
   ]
  },
  {
   "cell_type": "code",
   "execution_count": 251,
   "metadata": {},
   "outputs": [
    {
     "name": "stdout",
     "output_type": "stream",
     "text": [
      "Read 2261 files\n",
      "Saved to /cellar/users/zkoch/dream/data/tcga/processed_data/CPTAC-3_expression.parquet\n"
     ]
    }
   ],
   "source": [
    "cptac_expr = process_tcgabiolinks.main(\n",
    "    path = \"/cellar/users/zkoch/dream/data/tcga/GDCdata/CPTAC-3/harmonized/Transcriptome_Profiling/Gene_Expression_Quantification\",\n",
    "    dataset_name = 'CPTAC-3',\n",
    "    output_path = \"/cellar/users/zkoch/dream/data/tcga/processed_data\",\n",
    "    datatype = 'expression',\n",
    "    sample_sheet_fn = \"/cellar/users/zkoch/dream/data/tcga/manual_download/CPTAC-3/sample_sheet_no_duplicate_rows.tsv\"\n",
    ")"
   ]
  },
  {
   "cell_type": "code",
   "execution_count": 252,
   "metadata": {},
   "outputs": [
    {
     "data": {
      "text/plain": [
       "C3N-00315-03    1\n",
       "C3N-03488-03    1\n",
       "C3N-02811-02    1\n",
       "C3L-02179-01    1\n",
       "C3L-00781-14    1\n",
       "               ..\n",
       "C3L-01281-06    1\n",
       "C3N-02192-06    1\n",
       "C3N-01715-02    1\n",
       "C3N-00168-04    1\n",
       "C3L-01302-03    1\n",
       "Name: count, Length: 2220, dtype: int64"
      ]
     },
     "execution_count": 252,
     "metadata": {},
     "output_type": "execute_result"
    }
   ],
   "source": [
    "cptac_expr.columns.value_counts()"
   ]
  },
  {
   "cell_type": "markdown",
   "metadata": {},
   "source": [
    "# Methylation"
   ]
  },
  {
   "cell_type": "code",
   "execution_count": 3,
   "metadata": {},
   "outputs": [
    {
     "data": {
      "text/plain": [
       "first_case_id  first_sample_id               \n",
       "11LU013        9f905736-f662-41d6-b3ac-16758d    1\n",
       "C3N-01645      C3N-01645-02                      1\n",
       "C3N-01652      C3N-01652-05                      1\n",
       "               C3N-01652-04                      1\n",
       "C3N-01651      C3N-01651-10                      1\n",
       "                                                ..\n",
       "C3L-02741      C3L-02741-01                      1\n",
       "C3L-02708      C3L-02708-02                      1\n",
       "C3L-02707      C3L-02707-75                      1\n",
       "C3L-02705      C3L-02705-71                      1\n",
       "C464694        SM-JU33G                          1\n",
       "Name: count, Length: 1858, dtype: int64"
      ]
     },
     "execution_count": 3,
     "metadata": {},
     "output_type": "execute_result"
    }
   ],
   "source": [
    "# no cases where first_case_id and first_sample_id cannot distinguish\n",
    "sample_sheet.query(\"`Data Category` == 'DNA Methylation'\")[['first_case_id', 'first_sample_id']].value_counts()"
   ]
  },
  {
   "cell_type": "code",
   "execution_count": 19,
   "metadata": {},
   "outputs": [
    {
     "name": "stdout",
     "output_type": "stream",
     "text": [
      "Found 1863 files\n",
      "Read 1863 files\n",
      "Saved to /cellar/users/zkoch/dream/data/tcga/processed_data/CPTAC-3_methylation.parquet\n"
     ]
    }
   ],
   "source": [
    "cptac_methyl = process_tcgabiolinks.main(\n",
    "    path = \"/cellar/users/zkoch/dream/data/tcga/GDCdata/CPTAC-3/harmonized/DNA_Methylation/Methylation_Beta_Value\",\n",
    "    dataset_name = 'CPTAC-3',\n",
    "    output_path = \"/cellar/users/zkoch/dream/data/tcga/processed_data\",\n",
    "    datatype = 'methylation',\n",
    "    sample_sheet_fn = \"/cellar/users/zkoch/dream/data/tcga/manual_download/CPTAC-3/sample_sheet_no_duplicate_rows.tsv\"\n",
    ")"
   ]
  },
  {
   "cell_type": "code",
   "execution_count": 20,
   "metadata": {},
   "outputs": [
    {
     "ename": "NameError",
     "evalue": "name 'glob' is not defined",
     "output_type": "error",
     "traceback": [
      "\u001b[0;31m---------------------------------------------------------------------------\u001b[0m",
      "\u001b[0;31mNameError\u001b[0m                                 Traceback (most recent call last)",
      "Cell \u001b[0;32mIn[20], line 3\u001b[0m\n\u001b[1;32m      1\u001b[0m processed_data_dir \u001b[38;5;241m=\u001b[39m \u001b[38;5;124m\"\u001b[39m\u001b[38;5;124m/cellar/users/zkoch/dream/data/tcga/processed_data\u001b[39m\u001b[38;5;124m\"\u001b[39m\n\u001b[0;32m----> 3\u001b[0m dataset_files \u001b[38;5;241m=\u001b[39m \u001b[43mglob\u001b[49m\u001b[38;5;241m.\u001b[39mglob(os\u001b[38;5;241m.\u001b[39mpath\u001b[38;5;241m.\u001b[39mjoin(processed_data_dir, \u001b[38;5;28mself\u001b[39m\u001b[38;5;241m.\u001b[39mdataset_name \u001b[38;5;241m+\u001b[39m  \u001b[38;5;124m\"\u001b[39m\u001b[38;5;124m*\u001b[39m\u001b[38;5;124m\"\u001b[39m))\n",
      "\u001b[0;31mNameError\u001b[0m: name 'glob' is not defined"
     ]
    }
   ],
   "source": []
  },
  {
   "cell_type": "code",
   "execution_count": 4,
   "metadata": {},
   "outputs": [],
   "source": [
    "df = process_tcgabiolinks.read_methylation_file(fn = \"/cellar/users/zkoch/dream/data/tcga/GDCdata/CPTAC-3/harmonized/DNA_Methylation/Methylation_Beta_Value/c074fcb1-6e16-4fb9-a32d-25e4da0de36b/73848e64-7b29-441c-9e25-637cae912a08.methylation_array.sesame.level3betas.txt\", sample_sheet = sample_sheet)"
   ]
  },
  {
   "cell_type": "code",
   "execution_count": 5,
   "metadata": {},
   "outputs": [
    {
     "data": {
      "text/plain": [
       "pandas.core.frame.DataFrame"
      ]
     },
     "execution_count": 5,
     "metadata": {},
     "output_type": "execute_result"
    }
   ],
   "source": [
    "type(df)"
   ]
  },
  {
   "cell_type": "code",
   "execution_count": 6,
   "metadata": {},
   "outputs": [],
   "source": [
    "df_dd = dd.from_pandas(df, npartitions = 10)"
   ]
  },
  {
   "cell_type": "code",
   "execution_count": 8,
   "metadata": {},
   "outputs": [
    {
     "ename": "AttributeError",
     "evalue": "module 'polars' has no attribute 'from_pandas'",
     "output_type": "error",
     "traceback": [
      "\u001b[0;31m---------------------------------------------------------------------------\u001b[0m",
      "\u001b[0;31mAttributeError\u001b[0m                            Traceback (most recent call last)",
      "Cell \u001b[0;32mIn[8], line 2\u001b[0m\n\u001b[1;32m      1\u001b[0m \u001b[38;5;66;03m# convert df to polars df\u001b[39;00m\n\u001b[0;32m----> 2\u001b[0m df_pl \u001b[38;5;241m=\u001b[39m \u001b[43mpl\u001b[49m\u001b[38;5;241;43m.\u001b[39;49m\u001b[43mfrom_pandas\u001b[49m(df)\n",
      "\u001b[0;31mAttributeError\u001b[0m: module 'polars' has no attribute 'from_pandas'"
     ]
    }
   ],
   "source": [
    "# convert df to polars df\n",
    "\n",
    "df_pl = pl.from_pandas(df)"
   ]
  },
  {
   "cell_type": "markdown",
   "metadata": {},
   "source": [
    "# Proteomics"
   ]
  },
  {
   "cell_type": "code",
   "execution_count": 95,
   "metadata": {},
   "outputs": [
    {
     "name": "stderr",
     "output_type": "stream",
     "text": [
      "/tmp/ipykernel_1626924/2483219358.py:2: DtypeWarning: Columns (2,3,4,5,6,7,8,9,10,11,12,13,14,15,16,17,18,19,20,21,22,23,24,25,26,27,28,29,30,31,32,33,34,35,36,37,38,39,40,41,42,43,44,45,46,47,48,49,50,51,52,53,54,55,56,57,58,59,60,61,62,63,64,65,66,67,68,69,70,71,72,73,74,75,76,77,78,79,80,81,82,83,84,85,86,87,88,89,90,91,92,93,94,95,96,97,98,99,100,101,102,103,104,105,106,107,108,109,110,111,112,113,114,115,116,117,118,119,120,121,122,123,124,125,126,127,128,129,130,131,132,133,134,135,136,137,138,139,140,141,142,143,144,145,146,147,148,149,150,151,152,153,154,155,156,157,158,159,160,161,162,163,164,165,166,167,168,169,170,171,172,173,174,175,176,177,178,179,180,181,182,183,184,185,186,187,188,189,190,191,192,193,194,195,196,197,198,199,200,201,202,203,204,205,206,207,208) have mixed types. Specify dtype option on import or set low_memory=False.\n",
      "  phospho_df = pd.read_csv(\n"
     ]
    }
   ],
   "source": [
    "# CCRCC\n",
    "phospho_df = pd.read_csv(\n",
    "    \"/cellar/users/zkoch/dream/data/tcga/phosphoproteomics/cptac_phospo_ccrcc.gct\",\n",
    "    sep = '\\t', skiprows = 4, index_col=None\n",
    "    )\n",
    "phospho_df = phospho_df.iloc[4:, ].reset_index(drop=True)\n",
    "phospho_df.rename(columns = {'aliquot_alias': 'protein', 'na':'aa_sequence'}, inplace = True)\n",
    "phospho_df.set_index('protein', inplace = True)\n",
    "# convert all columns except first to numeric\n",
    "phospho_df.iloc[:, 1:] = phospho_df.iloc[:, 1:].apply(pd.to_numeric)\n",
    "phospho_df = phospho_df.T\n",
    "\n",
    "# get sample_id from biospec\n",
    "biospec = pd.read_csv(\n",
    "    \"/cellar/users/zkoch/dream/data/tcga/phosphoproteomics/PDC_study_biospecimen_CCRCC.tsv\",\n",
    "    sep = \"\\t\"\n",
    "    )\n",
    "len(set(phospho_df.index).intersection(set(biospec['Aliquot Submitter ID'])))\n",
    "\n",
    "mapper= biospec[['Aliquot Submitter ID', 'Sample Submitter ID']].set_index('Aliquot Submitter ID')\n",
    "phospho_df['sample_id'] = phospho_df.index.map(mapper['Sample Submitter ID'])\n",
    "phospho_df.set_index('sample_id', inplace = True, drop = True)\n",
    "phospho_df.to_csv(\"/cellar/users/zkoch/dream/data/tcga/processed_data/CPTAC-3_phosphoproteomics_kidney_ccrcc_transpose.parquet\", sep = \"\\t\", index = True)"
   ]
  },
  {
   "cell_type": "code",
   "execution_count": 112,
   "metadata": {},
   "outputs": [
    {
     "name": "stderr",
     "output_type": "stream",
     "text": [
      "/tmp/ipykernel_1626924/329099164.py:2: DtypeWarning: Columns (2,4,5,6,7,8,9,10,11,12,13,14,15,16,17,18,19,20,21,22,23,24,25,26,27,28,29,30,31,32,33,34,35,36,37,38,39,40,41,42,43,44,45,46,47,48,49,50,51,52,53,54,55,56,57,58,59,60,61,62,63,64,65,66,67,68,69,70,71,72,73,74,75,76,77,78,79,80,81,82,83,84,85,86,87,88,89,90,91,92,93,94,95,96,97,98,99,100,101,102,103,104,105,106,107,108,109,110,111,112,113,114,115,116,117,118,119,120,121,122,123,124,125,126,127,128,129,130,131,132,133,134,135,136,137,138,139,140,141,142,143,144,145,146,147,148,149,150,151,152,153,154,155,156,157,158,159,160,161,162,163,164,165,166,167,168,169,170,171,172,173,174,175,176,177,178,179,180,181,182,183,184,185,186,187,188,189,190,191,192,193,194,195,196,197,198,199,200,201,202,203,204,205,206,207,208,209,210) have mixed types. Specify dtype option on import or set low_memory=False.\n",
      "  proto_df = pd.read_csv(\n"
     ]
    }
   ],
   "source": [
    "# ccrss proto\n",
    "proto_df = pd.read_csv(\n",
    "    \"/cellar/users/zkoch/dream/data/tcga/phosphoproteomics/cptac_proto_ccrcc.gct\",\n",
    "    sep = '\\t', skiprows = 5, index_col=None\n",
    "    )\n",
    "\n",
    "proto_df = proto_df.iloc[5:, :]\n",
    "proto_df.set_index('aliquot_submitter_id', inplace = True)\n",
    "proto_df = proto_df.iloc[:, 3:]\n",
    "proto_df= proto_df.T\n",
    "\n",
    "biospec = pd.read_csv(\n",
    "    \"/cellar/users/zkoch/dream/data/tcga/phosphoproteomics/PDC_study_biospecimen_CCRCC.tsv\",\n",
    "    sep = \"\\t\"\n",
    "    )\n",
    "mapper= biospec[['Aliquot Submitter ID', 'Sample Submitter ID']].set_index('Aliquot Submitter ID')\n",
    "proto_df['sample_id'] = proto_df.index.map(mapper['Sample Submitter ID'])\n",
    "proto_df.set_index('sample_id', inplace=True, drop=True)\n",
    "proto_df = proto_df.iloc[:, 76:]\n",
    "proto_df.to_csv(\"/cellar/users/zkoch/dream/data/tcga/processed_data/CPTAC-3_proteomics_kidney_ccrcc_transpose.parquet\", sep = \"\\t\", index = True)"
   ]
  },
  {
   "cell_type": "code",
   "execution_count": null,
   "metadata": {},
   "outputs": [],
   "source": [
    "# UCEC\n",
    "phospho_df = pd.read_csv(\n",
    "    \"/cellar/users/zkoch/dream/data/tcga/phosphoproteomics/cptac_phospo_ucec.gct\",\n",
    "    sep = '\\t', skiprows = 1, index_col=None\n",
    "    )\n",
    "phospho_df.reset_index(inplace=True)\n",
    "# set row 3 to be the column names\n",
    "phospho_df.columns = phospho_df.iloc[3, :]\n",
    "# remove metadata rows\n",
    "phospho_df = phospho_df.iloc[31:]\n",
    "phospho_df = phospho_df.T\n",
    "phospho_df.columns = phospho_df.iloc[0, :]\n",
    "phospho_df = phospho_df.iloc[3:, ]\n",
    "\n",
    "# get sample_id from biospec\n",
    "biospec = pd.read_csv(\n",
    "    \"/cellar/users/zkoch/dream/data/tcga/phosphoproteomics/PDC_study_biospecimen_UCEC.tsv\",\n",
    "    sep = \"\\t\"\n",
    "    )\n",
    "mapper= biospec[['Sample ID', 'Sample Submitter ID']].set_index('Sample ID')\n",
    "mapper.drop_duplicates(inplace=True)\n",
    "phospho_df['sample_id'] = phospho_df.index.map(mapper['Sample Submitter ID'])\n",
    "phospho_df.set_index('sample_id', inplace = True, drop = True)\n",
    "phospho_df.to_csv(\"/cellar/users/zkoch/dream/data/tcga/processed_data/CPTAC-3_phosphoproteomics_uterus_ucec_transpose.parquet\", sep = \"\\t\", index = True)"
   ]
  },
  {
   "cell_type": "code",
   "execution_count": 130,
   "metadata": {},
   "outputs": [
    {
     "name": "stderr",
     "output_type": "stream",
     "text": [
      "/tmp/ipykernel_1626924/2759223661.py:2: DtypeWarning: Columns (2,4,5,6,7,8,9,10,11,12,13,14,15,16,17,18,19,20,21,22,23,24,25,26,27,28,29,30,31,32,33,34,35,36,37,38,39,40,41,42,43,44,45,46,47,48,49,50,51,52,53,54,55,56,57,58,59,60,61,62,63,64,65,66,67,68,69,70,71,72,73,74,75,76,77,78,79,80,81,82,83,84,85,86,87,88,89,90,91,92,93,94,95,96,97,98,99,100,101,102,103,104,105,106,107,108,109,110,111,112,113,114,115,116,117,118,119,120,121,122,123,124,125,126,127,128,129,130,131,132,133,134,135,136,137,138,139,140,141,142,143,144,145,146,147,148,149,150,151,152,153,154,155,156,157,158,159,160,161) have mixed types. Specify dtype option on import or set low_memory=False.\n",
      "  proto_df = pd.read_csv(\n"
     ]
    }
   ],
   "source": [
    "# ccrss proto\n",
    "proto_df = pd.read_csv(\n",
    "    \"/cellar/users/zkoch/dream/data/tcga/phosphoproteomics/cptac_proto_ucec.gct\",\n",
    "    sep = '\\t', skiprows = 7, index_col=None\n",
    "    )\n",
    "\n",
    "proto_df.set_index('aliquot_submitter_id', inplace = True)\n",
    "proto_df = proto_df.iloc[:, 3:]\n",
    "proto_df= proto_df.T\n",
    "\n",
    "biospec = pd.read_csv(\n",
    "    \"/cellar/users/zkoch/dream/data/tcga/phosphoproteomics/PDC_study_biospecimen_UCEC.tsv\",\n",
    "    sep = \"\\t\"\n",
    "    )\n",
    "mapper= biospec[['Aliquot Submitter ID', 'Sample Submitter ID']].set_index('Aliquot Submitter ID')\n",
    "proto_df['sample_id'] = proto_df.index.map(mapper['Sample Submitter ID'])\n",
    "proto_df.set_index('sample_id', inplace=True, drop=True)\n",
    "proto_df = proto_df.iloc[:, 25:]\n",
    "proto_df.to_csv(\"/cellar/users/zkoch/dream/data/tcga/processed_data/CPTAC-3_proteomics_uterus_UCEC_transpose.parquet\", sep = \"\\t\", index = True)"
   ]
  },
  {
   "cell_type": "code",
   "execution_count": 86,
   "metadata": {},
   "outputs": [
    {
     "name": "stderr",
     "output_type": "stream",
     "text": [
      "/tmp/ipykernel_1626924/3875396829.py:2: DtypeWarning: Columns (3,4,5,6,7,8,9,10,11,12,13,14,15,16,17,18,19,20,21,22,23,24,25,26,27,28,29,30,31,32,33,34,35,36,37,38,39,40,41,42,43,44,45,46,47,48,49,50,51,52,53,54,55,56,57,58,59,60,61,62,63,64,65,66,67,68,69,70,71,72,73,74,75,76,77,78,79,80,81,82,83,84,85,86,87,88,89,90,91,92,93,94,95,96,97,98,99,100,101,102,103,104,105,106,107,108,109,110,111,112,113,114,115,116,117,118,119,120,121,122,123,124,125,126,127,128,129,130,131,132,133,134,135,136,137,138,139,140,141,142,143,144,145,146,147,148,149,150,151,152,153,154,155,156,157,158,159,160,161,162,163,164,165,166,167,168,169,170,171,172,173,174,175,176,177,178,179,180,181,182,183,184,185,186,187,188,189,190,191,192,193,194,195,196,197,198,199,200,201,202) have mixed types. Specify dtype option on import or set low_memory=False.\n",
      "  phospho_df = pd.read_csv(\n"
     ]
    }
   ],
   "source": [
    "# HNSCC phospo\n",
    "phospho_df = pd.read_csv(\n",
    "    \"/cellar/users/zkoch/dream/data/tcga/phosphoproteomics/cptac_phospo_hnscc.gct\",\n",
    "    sep = '\\t', skiprows = 5, index_col=None\n",
    "    )\n",
    "phospho_df = phospho_df.iloc[67:]\n",
    "phospho_df.reset_index(inplace=True, drop=True)\n",
    "# set first column to be the index\n",
    "phospho_df.set_index('aliquot_submitter_id', inplace = True)\n",
    "phospho_df = phospho_df.iloc[:, 1:]\n",
    "phospho_df.rename({'na.1': 'gene_name'}, axis = 1, inplace = True)\n",
    "phospho_df = phospho_df.T\n",
    "\n",
    "\n",
    "biospec = pd.read_csv(\n",
    "    \"/cellar/users/zkoch/dream/data/tcga/phosphoproteomics/PDC_study_biospecimen_HNSCC.tsv\",\n",
    "    sep = \"\\t\"\n",
    "    )\n",
    "mapper= biospec[['Aliquot Submitter ID', 'Sample Submitter ID']].set_index('Aliquot Submitter ID')\n",
    "phospho_df['sample_id'] = phospho_df.index.map(mapper['Sample Submitter ID'])\n",
    "phospho_df.set_index('sample_id', inplace = True, drop = True)\n",
    "phospho_df.to_csv(\"/cellar/users/zkoch/dream/data/tcga/processed_data/CPTAC-3_phosphoproteomics_headneck_hnscc_transpose.parquet\", sep = \"\\t\", index = True)"
   ]
  },
  {
   "cell_type": "code",
   "execution_count": 85,
   "metadata": {},
   "outputs": [
    {
     "name": "stderr",
     "output_type": "stream",
     "text": [
      "/tmp/ipykernel_1626924/2553586192.py:1: DtypeWarning: Columns (2,4,5,6,7,8,9,10,11,12,13,14,15,16,17,18,19,20,21,22,23,24,25,26,27,28,29,30,31,32,33,34,35,36,37,38,39,40,41,42,43,44,45,46,47,48,49,50,51,52,53,54,55,56,57,58,59,60,61,62,63,64,65,66,67,68,69,70,71,72,73,74,75,76,77,78,79,80,81,82,83,84,85,86,87,88,89,90,91,92,93,94,95,96,97,98,99,100,101,102,103,104,105,106,107,108,109,110,111,112,113,114,115,116,117,118,119,120,121,122,123,124,125,126,127,128,129,130,131,132,133,134,135,136,137,138,139,140,141,142,143,144,145,146,147,148,149,150,151,152,153,154,155,156,157,158,159,160,161,162,163,164,165,166,167,168,169,170,171,172,173,174,175,176,177,178,179,180,181,182,183,184,185,186,187,188,189,190,191,192,193,194,195,196,197,198,199,200,201,202) have mixed types. Specify dtype option on import or set low_memory=False.\n",
      "  proto_df = pd.read_csv(\n"
     ]
    }
   ],
   "source": [
    "# hnscc proto\n",
    "\n",
    "proto_df = pd.read_csv(\n",
    "    \"/cellar/users/zkoch/dream/data/tcga/phosphoproteomics/cptac_proto_hnscc.gct\",\n",
    "    sep = '\\t', skiprows = 3, index_col=None\n",
    "    )\n",
    "proto_df = proto_df.iloc[5:, :]\n",
    "proto_df.set_index('aliquot_submitter_id', inplace = True)\n",
    "proto_df = proto_df.iloc[:, 3:]\n",
    "proto_df= proto_df.T\n",
    "\n",
    "biospec = pd.read_csv(\n",
    "    \"/cellar/users/zkoch/dream/data/tcga/phosphoproteomics/PDC_study_biospecimen_HNSCC.tsv\",\n",
    "    sep = \"\\t\"\n",
    "    )\n",
    "mapper= biospec[['Aliquot Submitter ID', 'Sample Submitter ID']].set_index('Aliquot Submitter ID')\n",
    "proto_df['sample_id'] = proto_df.index.map(mapper['Sample Submitter ID'])\n",
    "proto_df.set_index('sample_id', inplace=True, drop=True)\n",
    "proto_df.to_csv(\"/cellar/users/zkoch/dream/data/tcga/processed_data/CPTAC-3_proteomics_headneck_hnscc_transpose.parquet\", sep = \"\\t\", index = True)"
   ]
  },
  {
   "cell_type": "markdown",
   "metadata": {},
   "source": [
    "# Metadata"
   ]
  },
  {
   "cell_type": "code",
   "execution_count": 3,
   "metadata": {},
   "outputs": [],
   "source": [
    "sample_sheet = pd.read_csv(\n",
    "    \"/cellar/users/zkoch/dream/data/tcga/manual_download/CPTAC-3/sample_sheet_no_duplicate_rows.tsv\",\n",
    "    sep = \"\\t\"\n",
    "    )\n",
    "clinical = pd.read_csv(\n",
    "    \"/cellar/users/zkoch/dream/data/tcga/manual_download/CPTAC-3/clinical.tsv\",\n",
    "    sep = \"\\t\"\n",
    "    )\n",
    "\n",
    "followup = pd.read_csv(\n",
    "    \"/cellar/users/zkoch/dream/data/tcga/manual_download/CPTAC-3/follow_up.tsv\",\n",
    "    sep = \"\\t\"\n",
    "    )\n",
    "biospecimen_sample = pd.read_csv(\n",
    "    \"/cellar/users/zkoch/dream/data/tcga/manual_download/CPTAC-3/sample.tsv\",\n",
    "    sep = \"\\t\"\n",
    "    )\n"
   ]
  },
  {
   "cell_type": "markdown",
   "metadata": {},
   "source": [
    "#### Get everything interesting from sample sheet"
   ]
  },
  {
   "cell_type": "code",
   "execution_count": 16,
   "metadata": {},
   "outputs": [],
   "source": [
    "metadata = sample_sheet[\n",
    "    ['first_case_id','first_sample_id','Data Type','Sample Type' ]\n",
    "    ].copy(deep = True)\n",
    "metadata.columns = ['case_id', 'sample_id', 'data_type', 'sample_type']\n",
    "metadata['data_type'] = metadata['data_type'].map(\n",
    "    {'Gene Expression Quantification': 'expression',\n",
    "     'Masked Somatic Mutation': 'mutation', \n",
    "     'Methylation Beta Value': 'methylation'\n",
    "     })\n",
    "# all sample types are unique \n",
    "metadata['sample_type'] = metadata['sample_type'].str.split(\", \", expand = True)[0]\n",
    "# set all data tyope = mutation rows to have sample_type = 'Primary Tumor, Blood Derived Normal'\n",
    "metadata.loc[metadata['data_type'] == 'mutation', 'sample_type'] = 'Primary Tumor, Blood Derived Normal'"
   ]
  },
  {
   "cell_type": "code",
   "execution_count": 40,
   "metadata": {},
   "outputs": [
    {
     "data": {
      "text/plain": [
       "data_type    sample_type                        \n",
       "expression   Primary Tumor                          1567\n",
       "             Solid Tissue Normal                     653\n",
       "methylation  Primary Tumor                          1289\n",
       "             Solid Tissue Normal                     568\n",
       "             Recurrent Tumor                           1\n",
       "mutation     Primary Tumor, Blood Derived Normal    1277\n",
       "Name: count, dtype: int64"
      ]
     },
     "execution_count": 40,
     "metadata": {},
     "output_type": "execute_result"
    }
   ],
   "source": [
    "metadata.groupby(['data_type'])[['sample_type']].value_counts()"
   ]
  },
  {
   "cell_type": "markdown",
   "metadata": {},
   "source": [
    "#### From biospecimen"
   ]
  },
  {
   "cell_type": "code",
   "execution_count": 52,
   "metadata": {},
   "outputs": [
    {
     "data": {
      "text/plain": [
       "Index(['project_id', 'case_id', 'case_submitter_id', 'sample_id',\n",
       "       'sample_submitter_id', 'biospecimen_anatomic_site',\n",
       "       'biospecimen_laterality', 'catalog_reference', 'composition',\n",
       "       'current_weight', 'days_to_collection', 'days_to_sample_procurement',\n",
       "       'diagnosis_pathologically_confirmed', 'distance_normal_to_tumor',\n",
       "       'distributor_reference', 'freezing_method', 'growth_rate',\n",
       "       'initial_weight', 'intermediate_dimension', 'is_ffpe',\n",
       "       'longest_dimension', 'method_of_sample_procurement', 'oct_embedded',\n",
       "       'passage_count', 'pathology_report_uuid', 'preservation_method',\n",
       "       'sample_ordinal', 'sample_type', 'sample_type_id', 'shortest_dimension',\n",
       "       'specimen_type', 'state', 'time_between_clamping_and_freezing',\n",
       "       'time_between_excision_and_freezing', 'tissue_collection_type',\n",
       "       'tissue_type', 'tumor_code', 'tumor_code_id', 'tumor_descriptor'],\n",
       "      dtype='object')"
      ]
     },
     "execution_count": 52,
     "metadata": {},
     "output_type": "execute_result"
    }
   ],
   "source": [
    "biospecimen_sample.columns"
   ]
  },
  {
   "cell_type": "markdown",
   "metadata": {},
   "source": [
    "#### From clinical"
   ]
  },
  {
   "cell_type": "code",
   "execution_count": 4,
   "metadata": {},
   "outputs": [],
   "source": [
    "cols_we_want = ['case_submitter_id', 'days_to_birth', 'days_to_death','gender', 'race','vital_status','age_at_diagnosis' ,'primary_diagnosis','tissue_or_organ_of_origin']"
   ]
  },
  {
   "cell_type": "code",
   "execution_count": 8,
   "metadata": {},
   "outputs": [
    {
     "data": {
      "text/html": [
       "<div>\n",
       "<style scoped>\n",
       "    .dataframe tbody tr th:only-of-type {\n",
       "        vertical-align: middle;\n",
       "    }\n",
       "\n",
       "    .dataframe tbody tr th {\n",
       "        vertical-align: top;\n",
       "    }\n",
       "\n",
       "    .dataframe thead th {\n",
       "        text-align: right;\n",
       "    }\n",
       "</style>\n",
       "<table border=\"1\" class=\"dataframe\">\n",
       "  <thead>\n",
       "    <tr style=\"text-align: right;\">\n",
       "      <th></th>\n",
       "      <th>case_id</th>\n",
       "      <th>case_submitter_id</th>\n",
       "      <th>project_id</th>\n",
       "      <th>age_at_index</th>\n",
       "      <th>age_is_obfuscated</th>\n",
       "      <th>cause_of_death</th>\n",
       "      <th>cause_of_death_source</th>\n",
       "      <th>country_of_residence_at_enrollment</th>\n",
       "      <th>days_to_birth</th>\n",
       "      <th>days_to_death</th>\n",
       "      <th>...</th>\n",
       "      <th>treatment_arm</th>\n",
       "      <th>treatment_dose</th>\n",
       "      <th>treatment_dose_units</th>\n",
       "      <th>treatment_effect</th>\n",
       "      <th>treatment_effect_indicator</th>\n",
       "      <th>treatment_frequency</th>\n",
       "      <th>treatment_intent_type</th>\n",
       "      <th>treatment_or_therapy</th>\n",
       "      <th>treatment_outcome</th>\n",
       "      <th>treatment_type</th>\n",
       "    </tr>\n",
       "  </thead>\n",
       "  <tbody>\n",
       "    <tr>\n",
       "      <th>0</th>\n",
       "      <td>000ead0d-abf5-4606-be04-1ea31b999840</td>\n",
       "      <td>C3N-01179</td>\n",
       "      <td>CPTAC-3</td>\n",
       "      <td>'--</td>\n",
       "      <td>'--</td>\n",
       "      <td>'--</td>\n",
       "      <td>'--</td>\n",
       "      <td>'--</td>\n",
       "      <td>-26483</td>\n",
       "      <td>'--</td>\n",
       "      <td>...</td>\n",
       "      <td>'--</td>\n",
       "      <td>'--</td>\n",
       "      <td>'--</td>\n",
       "      <td>'--</td>\n",
       "      <td>'--</td>\n",
       "      <td>'--</td>\n",
       "      <td>'--</td>\n",
       "      <td>'--</td>\n",
       "      <td>'--</td>\n",
       "      <td>'--</td>\n",
       "    </tr>\n",
       "    <tr>\n",
       "      <th>1</th>\n",
       "      <td>003f4f85-3244-4132-8c9d-c29f09382269</td>\n",
       "      <td>C3N-02672</td>\n",
       "      <td>CPTAC-3</td>\n",
       "      <td>'--</td>\n",
       "      <td>'--</td>\n",
       "      <td>'--</td>\n",
       "      <td>'--</td>\n",
       "      <td>'--</td>\n",
       "      <td>-22056</td>\n",
       "      <td>'--</td>\n",
       "      <td>...</td>\n",
       "      <td>'--</td>\n",
       "      <td>'--</td>\n",
       "      <td>'--</td>\n",
       "      <td>'--</td>\n",
       "      <td>'--</td>\n",
       "      <td>'--</td>\n",
       "      <td>'--</td>\n",
       "      <td>'--</td>\n",
       "      <td>'--</td>\n",
       "      <td>'--</td>\n",
       "    </tr>\n",
       "    <tr>\n",
       "      <th>2</th>\n",
       "      <td>005d0639-c923-470f-a179-02a4dbb5cdf2</td>\n",
       "      <td>C3L-01929</td>\n",
       "      <td>CPTAC-3</td>\n",
       "      <td>'--</td>\n",
       "      <td>'--</td>\n",
       "      <td>'--</td>\n",
       "      <td>'--</td>\n",
       "      <td>'--</td>\n",
       "      <td>-19698</td>\n",
       "      <td>'--</td>\n",
       "      <td>...</td>\n",
       "      <td>'--</td>\n",
       "      <td>'--</td>\n",
       "      <td>'--</td>\n",
       "      <td>'--</td>\n",
       "      <td>'--</td>\n",
       "      <td>'--</td>\n",
       "      <td>'--</td>\n",
       "      <td>'--</td>\n",
       "      <td>'--</td>\n",
       "      <td>'--</td>\n",
       "    </tr>\n",
       "    <tr>\n",
       "      <th>3</th>\n",
       "      <td>006931bb-f5b1-4aa4-b0a8-af517a912db0</td>\n",
       "      <td>C3L-01838</td>\n",
       "      <td>CPTAC-3</td>\n",
       "      <td>'--</td>\n",
       "      <td>'--</td>\n",
       "      <td>'--</td>\n",
       "      <td>'--</td>\n",
       "      <td>'--</td>\n",
       "      <td>-25663</td>\n",
       "      <td>'--</td>\n",
       "      <td>...</td>\n",
       "      <td>'--</td>\n",
       "      <td>'--</td>\n",
       "      <td>'--</td>\n",
       "      <td>'--</td>\n",
       "      <td>'--</td>\n",
       "      <td>'--</td>\n",
       "      <td>'--</td>\n",
       "      <td>'--</td>\n",
       "      <td>'--</td>\n",
       "      <td>'--</td>\n",
       "    </tr>\n",
       "    <tr>\n",
       "      <th>4</th>\n",
       "      <td>0103db96-3e58-485c-bb9f-37b8a1f966e1</td>\n",
       "      <td>C3L-01146</td>\n",
       "      <td>CPTAC-3</td>\n",
       "      <td>'--</td>\n",
       "      <td>'--</td>\n",
       "      <td>Cancer Related</td>\n",
       "      <td>'--</td>\n",
       "      <td>'--</td>\n",
       "      <td>-21566</td>\n",
       "      <td>509</td>\n",
       "      <td>...</td>\n",
       "      <td>'--</td>\n",
       "      <td>'--</td>\n",
       "      <td>'--</td>\n",
       "      <td>'--</td>\n",
       "      <td>'--</td>\n",
       "      <td>'--</td>\n",
       "      <td>'--</td>\n",
       "      <td>'--</td>\n",
       "      <td>'--</td>\n",
       "      <td>'--</td>\n",
       "    </tr>\n",
       "    <tr>\n",
       "      <th>...</th>\n",
       "      <td>...</td>\n",
       "      <td>...</td>\n",
       "      <td>...</td>\n",
       "      <td>...</td>\n",
       "      <td>...</td>\n",
       "      <td>...</td>\n",
       "      <td>...</td>\n",
       "      <td>...</td>\n",
       "      <td>...</td>\n",
       "      <td>...</td>\n",
       "      <td>...</td>\n",
       "      <td>...</td>\n",
       "      <td>...</td>\n",
       "      <td>...</td>\n",
       "      <td>...</td>\n",
       "      <td>...</td>\n",
       "      <td>...</td>\n",
       "      <td>...</td>\n",
       "      <td>...</td>\n",
       "      <td>...</td>\n",
       "      <td>...</td>\n",
       "    </tr>\n",
       "    <tr>\n",
       "      <th>1230</th>\n",
       "      <td>fed33fff-0310-42ad-a7dc-d563792f18cc</td>\n",
       "      <td>C3N-03853</td>\n",
       "      <td>CPTAC-3</td>\n",
       "      <td>'--</td>\n",
       "      <td>'--</td>\n",
       "      <td>Unknown</td>\n",
       "      <td>'--</td>\n",
       "      <td>'--</td>\n",
       "      <td>-17976</td>\n",
       "      <td>393</td>\n",
       "      <td>...</td>\n",
       "      <td>'--</td>\n",
       "      <td>'--</td>\n",
       "      <td>'--</td>\n",
       "      <td>'--</td>\n",
       "      <td>'--</td>\n",
       "      <td>'--</td>\n",
       "      <td>'--</td>\n",
       "      <td>'--</td>\n",
       "      <td>'--</td>\n",
       "      <td>'--</td>\n",
       "    </tr>\n",
       "    <tr>\n",
       "      <th>1231</th>\n",
       "      <td>fed70927-708c-479e-942c-139414370672</td>\n",
       "      <td>C3L-02856</td>\n",
       "      <td>CPTAC-3</td>\n",
       "      <td>'--</td>\n",
       "      <td>'--</td>\n",
       "      <td>'--</td>\n",
       "      <td>'--</td>\n",
       "      <td>'--</td>\n",
       "      <td>-32731</td>\n",
       "      <td>'--</td>\n",
       "      <td>...</td>\n",
       "      <td>'--</td>\n",
       "      <td>'--</td>\n",
       "      <td>'--</td>\n",
       "      <td>'--</td>\n",
       "      <td>'--</td>\n",
       "      <td>'--</td>\n",
       "      <td>'--</td>\n",
       "      <td>'--</td>\n",
       "      <td>'--</td>\n",
       "      <td>'--</td>\n",
       "    </tr>\n",
       "    <tr>\n",
       "      <th>1232</th>\n",
       "      <td>ff527151-6797-414e-8760-edcb73306a28</td>\n",
       "      <td>C3L-03984</td>\n",
       "      <td>CPTAC-3</td>\n",
       "      <td>'--</td>\n",
       "      <td>'--</td>\n",
       "      <td>'--</td>\n",
       "      <td>'--</td>\n",
       "      <td>'--</td>\n",
       "      <td>-21834</td>\n",
       "      <td>'--</td>\n",
       "      <td>...</td>\n",
       "      <td>'--</td>\n",
       "      <td>'--</td>\n",
       "      <td>'--</td>\n",
       "      <td>'--</td>\n",
       "      <td>'--</td>\n",
       "      <td>'--</td>\n",
       "      <td>'--</td>\n",
       "      <td>'--</td>\n",
       "      <td>'--</td>\n",
       "      <td>'--</td>\n",
       "    </tr>\n",
       "    <tr>\n",
       "      <th>1233</th>\n",
       "      <td>ffad76a6-045c-4005-9088-6deb8b83f0ec</td>\n",
       "      <td>C3N-02261</td>\n",
       "      <td>CPTAC-3</td>\n",
       "      <td>'--</td>\n",
       "      <td>'--</td>\n",
       "      <td>'--</td>\n",
       "      <td>'--</td>\n",
       "      <td>'--</td>\n",
       "      <td>-20860</td>\n",
       "      <td>'--</td>\n",
       "      <td>...</td>\n",
       "      <td>'--</td>\n",
       "      <td>'--</td>\n",
       "      <td>'--</td>\n",
       "      <td>'--</td>\n",
       "      <td>'--</td>\n",
       "      <td>'--</td>\n",
       "      <td>'--</td>\n",
       "      <td>'--</td>\n",
       "      <td>'--</td>\n",
       "      <td>'--</td>\n",
       "    </tr>\n",
       "    <tr>\n",
       "      <th>1234</th>\n",
       "      <td>ffef8d1d-f99d-4cc0-9f49-46488bfca131</td>\n",
       "      <td>C3L-00586</td>\n",
       "      <td>CPTAC-3</td>\n",
       "      <td>'--</td>\n",
       "      <td>'--</td>\n",
       "      <td>'--</td>\n",
       "      <td>'--</td>\n",
       "      <td>'--</td>\n",
       "      <td>-18580</td>\n",
       "      <td>'--</td>\n",
       "      <td>...</td>\n",
       "      <td>'--</td>\n",
       "      <td>'--</td>\n",
       "      <td>'--</td>\n",
       "      <td>'--</td>\n",
       "      <td>'--</td>\n",
       "      <td>'--</td>\n",
       "      <td>'--</td>\n",
       "      <td>'--</td>\n",
       "      <td>'--</td>\n",
       "      <td>'--</td>\n",
       "    </tr>\n",
       "  </tbody>\n",
       "</table>\n",
       "<p>1235 rows × 158 columns</p>\n",
       "</div>"
      ],
      "text/plain": [
       "                                   case_id case_submitter_id project_id  \\\n",
       "0     000ead0d-abf5-4606-be04-1ea31b999840         C3N-01179    CPTAC-3   \n",
       "1     003f4f85-3244-4132-8c9d-c29f09382269         C3N-02672    CPTAC-3   \n",
       "2     005d0639-c923-470f-a179-02a4dbb5cdf2         C3L-01929    CPTAC-3   \n",
       "3     006931bb-f5b1-4aa4-b0a8-af517a912db0         C3L-01838    CPTAC-3   \n",
       "4     0103db96-3e58-485c-bb9f-37b8a1f966e1         C3L-01146    CPTAC-3   \n",
       "...                                    ...               ...        ...   \n",
       "1230  fed33fff-0310-42ad-a7dc-d563792f18cc         C3N-03853    CPTAC-3   \n",
       "1231  fed70927-708c-479e-942c-139414370672         C3L-02856    CPTAC-3   \n",
       "1232  ff527151-6797-414e-8760-edcb73306a28         C3L-03984    CPTAC-3   \n",
       "1233  ffad76a6-045c-4005-9088-6deb8b83f0ec         C3N-02261    CPTAC-3   \n",
       "1234  ffef8d1d-f99d-4cc0-9f49-46488bfca131         C3L-00586    CPTAC-3   \n",
       "\n",
       "     age_at_index age_is_obfuscated  cause_of_death cause_of_death_source  \\\n",
       "0             '--               '--             '--                   '--   \n",
       "1             '--               '--             '--                   '--   \n",
       "2             '--               '--             '--                   '--   \n",
       "3             '--               '--             '--                   '--   \n",
       "4             '--               '--  Cancer Related                   '--   \n",
       "...           ...               ...             ...                   ...   \n",
       "1230          '--               '--         Unknown                   '--   \n",
       "1231          '--               '--             '--                   '--   \n",
       "1232          '--               '--             '--                   '--   \n",
       "1233          '--               '--             '--                   '--   \n",
       "1234          '--               '--             '--                   '--   \n",
       "\n",
       "     country_of_residence_at_enrollment days_to_birth days_to_death  ...  \\\n",
       "0                                   '--        -26483           '--  ...   \n",
       "1                                   '--        -22056           '--  ...   \n",
       "2                                   '--        -19698           '--  ...   \n",
       "3                                   '--        -25663           '--  ...   \n",
       "4                                   '--        -21566           509  ...   \n",
       "...                                 ...           ...           ...  ...   \n",
       "1230                                '--        -17976           393  ...   \n",
       "1231                                '--        -32731           '--  ...   \n",
       "1232                                '--        -21834           '--  ...   \n",
       "1233                                '--        -20860           '--  ...   \n",
       "1234                                '--        -18580           '--  ...   \n",
       "\n",
       "     treatment_arm treatment_dose treatment_dose_units treatment_effect  \\\n",
       "0              '--            '--                  '--              '--   \n",
       "1              '--            '--                  '--              '--   \n",
       "2              '--            '--                  '--              '--   \n",
       "3              '--            '--                  '--              '--   \n",
       "4              '--            '--                  '--              '--   \n",
       "...            ...            ...                  ...              ...   \n",
       "1230           '--            '--                  '--              '--   \n",
       "1231           '--            '--                  '--              '--   \n",
       "1232           '--            '--                  '--              '--   \n",
       "1233           '--            '--                  '--              '--   \n",
       "1234           '--            '--                  '--              '--   \n",
       "\n",
       "     treatment_effect_indicator treatment_frequency treatment_intent_type  \\\n",
       "0                           '--                 '--                   '--   \n",
       "1                           '--                 '--                   '--   \n",
       "2                           '--                 '--                   '--   \n",
       "3                           '--                 '--                   '--   \n",
       "4                           '--                 '--                   '--   \n",
       "...                         ...                 ...                   ...   \n",
       "1230                        '--                 '--                   '--   \n",
       "1231                        '--                 '--                   '--   \n",
       "1232                        '--                 '--                   '--   \n",
       "1233                        '--                 '--                   '--   \n",
       "1234                        '--                 '--                   '--   \n",
       "\n",
       "     treatment_or_therapy treatment_outcome treatment_type  \n",
       "0                     '--               '--            '--  \n",
       "1                     '--               '--            '--  \n",
       "2                     '--               '--            '--  \n",
       "3                     '--               '--            '--  \n",
       "4                     '--               '--            '--  \n",
       "...                   ...               ...            ...  \n",
       "1230                  '--               '--            '--  \n",
       "1231                  '--               '--            '--  \n",
       "1232                  '--               '--            '--  \n",
       "1233                  '--               '--            '--  \n",
       "1234                  '--               '--            '--  \n",
       "\n",
       "[1235 rows x 158 columns]"
      ]
     },
     "execution_count": 8,
     "metadata": {},
     "output_type": "execute_result"
    }
   ],
   "source": [
    "clinical#['case_submitter_id'].value_counts()"
   ]
  },
  {
   "cell_type": "code",
   "execution_count": 123,
   "metadata": {},
   "outputs": [],
   "source": [
    "metadata = metadata.merge(\n",
    "    clinical[cols_we_want], left_on='case_id',\n",
    "    right_on='case_submitter_id', how='left'\n",
    "    )"
   ]
  },
  {
   "cell_type": "markdown",
   "metadata": {},
   "source": [
    "#### From followup"
   ]
  },
  {
   "cell_type": "code",
   "execution_count": 139,
   "metadata": {},
   "outputs": [],
   "source": [
    "# drop columns that are all '--\n",
    "followup = followup.drop(\n",
    "    columns = followup.columns[followup.apply(lambda x: x.str.contains('--').all())]\n",
    "    )"
   ]
  },
  {
   "cell_type": "code",
   "execution_count": 164,
   "metadata": {},
   "outputs": [
    {
     "data": {
      "text/plain": [
       "1170"
      ]
     },
     "execution_count": 164,
     "metadata": {},
     "output_type": "execute_result"
    }
   ],
   "source": [
    "len(set(metadata['case_id'].to_list()).intersection(set(followup['case_submitter_id'].to_list())))"
   ]
  },
  {
   "cell_type": "code",
   "execution_count": 170,
   "metadata": {},
   "outputs": [],
   "source": [
    "follow_up_cols_we_want = ['case_submitter_id', 'bmi','height', 'weight', 'comorbidity','days_to_recurrence', 'karnofsky_performance_status','ecog_performance_status']\n",
    "metadata = metadata.merge(\n",
    "    followup[follow_up_cols_we_want], left_on='case_id',\n",
    "    right_on='case_submitter_id', how='left'\n",
    "    )"
   ]
  },
  {
   "cell_type": "markdown",
   "metadata": {},
   "source": [
    "#### General clean up and conversion"
   ]
  },
  {
   "cell_type": "code",
   "execution_count": 182,
   "metadata": {},
   "outputs": [],
   "source": [
    "# replace '-- with np.nan\n",
    "metadata = metadata.replace('\\'--', np.nan)"
   ]
  },
  {
   "cell_type": "code",
   "execution_count": 195,
   "metadata": {},
   "outputs": [],
   "source": [
    "# convert days_to_birth (a string) to years old (a float)\n",
    "metadata['age_at_index'] = -1 * metadata['days_to_birth'].astype(float)/365.25\n",
    "\n",
    "metadata['years_to_death'] = metadata['days_to_death'].astype(float)/365.25\n",
    "metadata['years_to_recurrence'] = metadata['days_to_recurrence'].astype(float)/365.25\n",
    "# drop stuff\n",
    "metadata = metadata.drop(columns = ['days_to_birth', 'days_to_death', 'age_at_diagnosis'])\n",
    "# rename columns\n",
    "metadata = metadata.rename(columns = {'case_submitter_id': 'case_id'})"
   ]
  },
  {
   "cell_type": "code",
   "execution_count": 200,
   "metadata": {},
   "outputs": [
    {
     "data": {
      "text/plain": [
       "Index(['case_id', 'sample_id', 'data_type', 'sample_type', 'gender', 'race',\n",
       "       'vital_status', 'primary_diagnosis', 'tissue_or_organ_of_origin', 'bmi',\n",
       "       'height', 'weight', 'comorbidity', 'karnofsky_performance_status',\n",
       "       'ecog_performance_status', 'age_at_index', 'years_to_death',\n",
       "       'years_to_recurrence'],\n",
       "      dtype='object')"
      ]
     },
     "execution_count": 200,
     "metadata": {},
     "output_type": "execute_result"
    }
   ],
   "source": [
    "metadata.columns"
   ]
  },
  {
   "cell_type": "code",
   "execution_count": 201,
   "metadata": {},
   "outputs": [],
   "source": [
    "metadata = metadata[['case_id', 'sample_id', 'data_type', 'sample_type', 'age_at_index','tissue_or_organ_of_origin', 'gender', 'race',\n",
    "       'vital_status', 'primary_diagnosis',  'bmi',\n",
    "       'height', 'weight', 'comorbidity', 'karnofsky_performance_status',\n",
    "       'ecog_performance_status', 'years_to_death',\n",
    "       'years_to_recurrence'\n",
    "        ]]\n",
    "metadata.reset_index(drop = True, inplace = True)"
   ]
  },
  {
   "cell_type": "code",
   "execution_count": 207,
   "metadata": {},
   "outputs": [],
   "source": [
    "metadata.to_parquet(\"/cellar/users/zkoch/dream/data/tcga/processed_data/CPTAC-3_metadata.parquet\")"
   ]
  },
  {
   "cell_type": "code",
   "execution_count": 2,
   "metadata": {},
   "outputs": [],
   "source": [
    "metadata = pd.read_parquet(\"/cellar/users/zkoch/dream/data/tcga/processed_data/CPTAC-3_metadata.parquet\")"
   ]
  }
 ],
 "metadata": {
  "kernelspec": {
   "display_name": "dream_proj",
   "language": "python",
   "name": "python3"
  },
  "language_info": {
   "codemirror_mode": {
    "name": "ipython",
    "version": 3
   },
   "file_extension": ".py",
   "mimetype": "text/x-python",
   "name": "python",
   "nbconvert_exporter": "python",
   "pygments_lexer": "ipython3",
   "version": "3.12.0"
  }
 },
 "nbformat": 4,
 "nbformat_minor": 2
}
