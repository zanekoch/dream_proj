{
 "cells": [
  {
   "cell_type": "code",
   "execution_count": null,
   "metadata": {},
   "outputs": [],
   "source": [
    "# use dream_proj conda environment\n",
    "import pandas as pd\n",
    "import numpy as np\n",
    "import os\n",
    "import sys\n",
    "import seaborn as sns\n",
    "import matplotlib.pyplot as plt\n",
    "# auto reload source files\n",
    "%load_ext autoreload\n",
    "%autoreload 2\n",
    "# make docstrings from my own functions available\n",
    "#%config IPCompleter.use_jedi = True\n",
    "# add source directory to path\n",
    "source_path = os.path.abspath(os.path.join('../..'))\n",
    "if source_path not in sys.path:\n",
    "    sys.path.append(os.path.join(source_path, 'source'))\n",
    "# read source files\n",
    "import process_tcgabiolinks"
   ]
  },
  {
   "cell_type": "code",
   "execution_count": 5,
   "metadata": {},
   "outputs": [
    {
     "data": {
      "text/plain": [
       "'\\nsample_sheet[\\'first_sample_id\\'] = sample_sheet[\\'Sample ID\\'].str.split(\",\", expand = True)[0]\\nsample_sheet[\\'first_sample_type\\'] = sample_sheet[\\'Sample Type\\'].str.split(\", \", expand = True)[0]\\nsample_sheet[\\'first_case_id\\'] = sample_sheet[\\'Case ID\\'].str.split(\", \", expand = True)[0]\\nsample_sheet.to_csv(\"/cellar/users/zkoch/dream/data/tcga/manual_download/CPTAC-3/sample_sheet.tsv\", sep = \"\\t\", index = False)\\n# drop rows that are transcriptome and the file name does not contain rna_seq\\nsample_sheet = sample_sheet.query(\\n    \\'((`Data Category` != \"Transcriptome Profiling\") | (`File Name`.str.contains(\"rna_seq\") == True))\\'\\n    )\\n# drop duplicate rows of sample_sheet\\n# not considering \\'File ID\\', \\'File Name\\', \\'Sample ID\\',\\nrows_to_consider = [\\'Data Category\\', \\'Data Type\\', \\'Project ID\\', \\'Case ID\\', \\n       \\'Sample Type\\', \\'first_sample_id\\', \\'first_sample_type\\', \\'first_case_id\\']\\nsample_sheet = sample_sheet.drop_duplicates(\\n    subset = rows_to_consider, keep = \\'first\\'\\n)\\n# Drop mutation rows where first_sample_id and first_case_id are duplicated\\nmut_rows_to_keep = sample_sheet.query(\\n    \"`Data Category` == \\'Simple Nucleotide Variation\\'\"\\n    ).drop_duplicates(subset = [\\'first_case_id\\', \\'first_sample_id\\'])\\nsample_sheet = sample_sheet.query(\"`Data Category` != \\'Simple Nucleotide Variation\\'\")\\n# add back mutation rows\\nsample_sheet = pd.concat([sample_sheet, mut_rows_to_keep])\\nsample_sheet.to_csv(\"/cellar/users/zkoch/dream/data/tcga/manual_download/CPTAC-3/sample_sheet_no_duplicate_rows.tsv\", sep = \"\\t\", index = False)\\n\\n'"
      ]
     },
     "execution_count": 5,
     "metadata": {},
     "output_type": "execute_result"
    }
   ],
   "source": [
    "sample_sheet = pd.read_csv(\n",
    "    \"/cellar/users/zkoch/dream/data/tcga/manual_download/CPTAC-3/sample_sheet_no_duplicate_rows.tsv\",\n",
    "    sep = \"\\t\"\n",
    "    )\n",
    "clinical = pd.read_csv(\n",
    "    \"/cellar/users/zkoch/dream/data/tcga/manual_download/CPTAC-3/clinical.tsv\",\n",
    "    sep = \"\\t\"\n",
    "    )\n",
    "\n",
    "followup = pd.read_csv(\n",
    "    \"/cellar/users/zkoch/dream/data/tcga/manual_download/CPTAC-3/follow_up.tsv\",\n",
    "    sep = \"\\t\"\n",
    "    )\n",
    "biospecimen_sample = pd.read_csv(\n",
    "    \"/cellar/users/zkoch/dream/data/tcga/manual_download/CPTAC-3/sample.tsv\",\n",
    "    sep = \"\\t\"\n",
    "    )\n",
    "\"\"\"\n",
    "sample_sheet['first_sample_id'] = sample_sheet['Sample ID'].str.split(\",\", expand = True)[0]\n",
    "sample_sheet['first_sample_type'] = sample_sheet['Sample Type'].str.split(\", \", expand = True)[0]\n",
    "sample_sheet['first_case_id'] = sample_sheet['Case ID'].str.split(\", \", expand = True)[0]\n",
    "sample_sheet.to_csv(\"/cellar/users/zkoch/dream/data/tcga/manual_download/CPTAC-3/sample_sheet.tsv\", sep = \"\\t\", index = False)\n",
    "# drop rows that are transcriptome and the file name does not contain rna_seq\n",
    "sample_sheet = sample_sheet.query(\n",
    "    '((`Data Category` != \"Transcriptome Profiling\") | (`File Name`.str.contains(\"rna_seq\") == True))'\n",
    "    )\n",
    "# drop duplicate rows of sample_sheet\n",
    "# not considering 'File ID', 'File Name', 'Sample ID',\n",
    "rows_to_consider = ['Data Category', 'Data Type', 'Project ID', 'Case ID', \n",
    "       'Sample Type', 'first_sample_id', 'first_sample_type', 'first_case_id']\n",
    "sample_sheet = sample_sheet.drop_duplicates(\n",
    "    subset = rows_to_consider, keep = 'first'\n",
    ")\n",
    "# Drop mutation rows where first_sample_id and first_case_id are duplicated\n",
    "mut_rows_to_keep = sample_sheet.query(\n",
    "    \"`Data Category` == 'Simple Nucleotide Variation'\"\n",
    "    ).drop_duplicates(subset = ['first_case_id', 'first_sample_id'])\n",
    "sample_sheet = sample_sheet.query(\"`Data Category` != 'Simple Nucleotide Variation'\")\n",
    "# add back mutation rows\n",
    "sample_sheet = pd.concat([sample_sheet, mut_rows_to_keep])\n",
    "sample_sheet.to_csv(\"/cellar/users/zkoch/dream/data/tcga/manual_download/CPTAC-3/sample_sheet_no_duplicate_rows.tsv\", sep = \"\\t\", index = False)\n",
    "\n",
    "\"\"\"\n"
   ]
  },
  {
   "cell_type": "markdown",
   "metadata": {},
   "source": [
    "# Mutation"
   ]
  },
  {
   "cell_type": "code",
   "execution_count": 245,
   "metadata": {},
   "outputs": [
    {
     "data": {
      "text/plain": [
       "first_sample_id\n",
       "C3L-00017-31    1\n",
       "C3N-00831-31    1\n",
       "C3L-01967-31    1\n",
       "C3N-02266-01    1\n",
       "C3L-02389-01    1\n",
       "               ..\n",
       "C3L-02515-31    1\n",
       "C3N-02694-31    1\n",
       "C3L-00156-02    1\n",
       "C3L-01106-02    1\n",
       "C3L-02164-03    1\n",
       "Name: count, Length: 1277, dtype: int64"
      ]
     },
     "execution_count": 245,
     "metadata": {},
     "output_type": "execute_result"
    }
   ],
   "source": [
    "# all mutation files are uniquely identified by first_sample_id\n",
    "sample_sheet.query(\"`Data Category` == 'Simple Nucleotide Variation'\")[ 'first_sample_id'].value_counts()"
   ]
  },
  {
   "cell_type": "code",
   "execution_count": 246,
   "metadata": {},
   "outputs": [
    {
     "name": "stdout",
     "output_type": "stream",
     "text": [
      "Read 1448 files\n"
     ]
    },
    {
     "name": "stderr",
     "output_type": "stream",
     "text": [
      "/cellar/users/zkoch/dream/source/process_tcgabiolinks.py:43: FutureWarning: The behavior of DataFrame concatenation with empty or all-NA entries is deprecated. In a future version, this will no longer exclude empty or all-NA columns when determining the result dtypes. To retain the old behavior, exclude the relevant entries before the concat operation.\n",
      "  df = pd.concat(dfs, axis=0).reset_index(drop = True)\n"
     ]
    },
    {
     "name": "stdout",
     "output_type": "stream",
     "text": [
      "Saved to /cellar/users/zkoch/dream/data/tcga/processed_data/CPTAC-3_mutation.parquet\n"
     ]
    }
   ],
   "source": [
    "cptac_mutation = process_tcgabiolinks.main(\n",
    "    path = \"/cellar/users/zkoch/dream/data/tcga/GDCdata/CPTAC-3/harmonized/Simple_Nucleotide_Variation/Masked_Somatic_Mutation\",\n",
    "    dataset_name = 'CPTAC-3',\n",
    "    output_path = \"/cellar/users/zkoch/dream/data/tcga/processed_data\",\n",
    "    datatype = 'mutation',\n",
    "    sample_sheet_fn = \"/cellar/users/zkoch/dream/data/tcga/manual_download/CPTAC-3/sample_sheet_no_duplicate_rows.tsv\"\n",
    ")"
   ]
  },
  {
   "cell_type": "code",
   "execution_count": 247,
   "metadata": {},
   "outputs": [
    {
     "data": {
      "text/plain": [
       "first_sample_id\n",
       "C3L-01913-31    22327\n",
       "C3L-00586-31    13533\n",
       "C3L-02557-31    12888\n",
       "C3N-00151-03    12284\n",
       "C3N-02637-31     9291\n",
       "                ...  \n",
       "C3L-01158-31        5\n",
       "C3L-01052-31        4\n",
       "C3N-02996-02        2\n",
       "C3L-01253-71        1\n",
       "C3L-00083-31        1\n",
       "Name: count, Length: 1272, dtype: int64"
      ]
     },
     "execution_count": 247,
     "metadata": {},
     "output_type": "execute_result"
    }
   ],
   "source": [
    "# correct number of case_ids, and sample_ids don't matter for mutation data (because mutations are defined as the exclusion of 2 samples)\n",
    "cptac_mutation['first_sample_id'].value_counts()"
   ]
  },
  {
   "cell_type": "markdown",
   "metadata": {},
   "source": [
    "# Expression"
   ]
  },
  {
   "cell_type": "code",
   "execution_count": 248,
   "metadata": {},
   "outputs": [
    {
     "data": {
      "text/plain": [
       "first_sample_id\n",
       "1104806            1\n",
       "C3N-01755-11       1\n",
       "C3N-01719-04       1\n",
       "C3N-01752-02       1\n",
       "C3N-01754-03       1\n",
       "                  ..\n",
       "C3L-02701-02       1\n",
       "C3L-02669-06       1\n",
       "C3L-02669-03       1\n",
       "C3L-02665-06       1\n",
       "PT-Y8DK-01         1\n",
       "Name: count, Length: 2220, dtype: int64"
      ]
     },
     "execution_count": 248,
     "metadata": {},
     "output_type": "execute_result"
    }
   ],
   "source": [
    "# no cases where first_sample_id cannot distinguish\n",
    "sample_sheet.query(\"`Data Category` == 'Transcriptome Profiling'\")[[ 'first_sample_id']].value_counts()"
   ]
  },
  {
   "cell_type": "code",
   "execution_count": 251,
   "metadata": {},
   "outputs": [
    {
     "name": "stdout",
     "output_type": "stream",
     "text": [
      "Read 2261 files\n",
      "Saved to /cellar/users/zkoch/dream/data/tcga/processed_data/CPTAC-3_expression.parquet\n"
     ]
    }
   ],
   "source": [
    "cptac_expr = process_tcgabiolinks.main(\n",
    "    path = \"/cellar/users/zkoch/dream/data/tcga/GDCdata/CPTAC-3/harmonized/Transcriptome_Profiling/Gene_Expression_Quantification\",\n",
    "    dataset_name = 'CPTAC-3',\n",
    "    output_path = \"/cellar/users/zkoch/dream/data/tcga/processed_data\",\n",
    "    datatype = 'expression',\n",
    "    sample_sheet_fn = \"/cellar/users/zkoch/dream/data/tcga/manual_download/CPTAC-3/sample_sheet_no_duplicate_rows.tsv\"\n",
    ")"
   ]
  },
  {
   "cell_type": "code",
   "execution_count": 252,
   "metadata": {},
   "outputs": [
    {
     "data": {
      "text/plain": [
       "C3N-00315-03    1\n",
       "C3N-03488-03    1\n",
       "C3N-02811-02    1\n",
       "C3L-02179-01    1\n",
       "C3L-00781-14    1\n",
       "               ..\n",
       "C3L-01281-06    1\n",
       "C3N-02192-06    1\n",
       "C3N-01715-02    1\n",
       "C3N-00168-04    1\n",
       "C3L-01302-03    1\n",
       "Name: count, Length: 2220, dtype: int64"
      ]
     },
     "execution_count": 252,
     "metadata": {},
     "output_type": "execute_result"
    }
   ],
   "source": [
    "cptac_expr.columns.value_counts()"
   ]
  },
  {
   "cell_type": "markdown",
   "metadata": {},
   "source": [
    "# Methylation"
   ]
  },
  {
   "cell_type": "code",
   "execution_count": 233,
   "metadata": {},
   "outputs": [
    {
     "data": {
      "text/plain": [
       "first_case_id  first_sample_id               \n",
       "11LU013        9f905736-f662-41d6-b3ac-16758d    1\n",
       "C3N-01645      C3N-01645-02                      1\n",
       "C3N-01652      C3N-01652-05                      1\n",
       "               C3N-01652-04                      1\n",
       "C3N-01651      C3N-01651-10                      1\n",
       "                                                ..\n",
       "C3L-02741      C3L-02741-01                      1\n",
       "C3L-02708      C3L-02708-02                      1\n",
       "C3L-02707      C3L-02707-75                      1\n",
       "C3L-02705      C3L-02705-71                      1\n",
       "C464694        SM-JU33G                          1\n",
       "Name: count, Length: 1858, dtype: int64"
      ]
     },
     "execution_count": 233,
     "metadata": {},
     "output_type": "execute_result"
    }
   ],
   "source": [
    "# no cases where first_case_id and first_sample_id cannot distinguish\n",
    "sample_sheet.query(\"`Data Category` == 'DNA Methylation'\")[['first_case_id', 'first_sample_id']].value_counts()"
   ]
  },
  {
   "cell_type": "markdown",
   "metadata": {},
   "source": [
    "# Metadata"
   ]
  },
  {
   "cell_type": "code",
   "execution_count": 6,
   "metadata": {},
   "outputs": [],
   "source": [
    "sample_sheet = pd.read_csv(\n",
    "    \"/cellar/users/zkoch/dream/data/tcga/manual_download/CPTAC-3/sample_sheet_no_duplicate_rows.tsv\",\n",
    "    sep = \"\\t\"\n",
    "    )\n",
    "clinical = pd.read_csv(\n",
    "    \"/cellar/users/zkoch/dream/data/tcga/manual_download/CPTAC-3/clinical.tsv\",\n",
    "    sep = \"\\t\"\n",
    "    )\n",
    "\n",
    "followup = pd.read_csv(\n",
    "    \"/cellar/users/zkoch/dream/data/tcga/manual_download/CPTAC-3/follow_up.tsv\",\n",
    "    sep = \"\\t\"\n",
    "    )\n",
    "biospecimen_sample = pd.read_csv(\n",
    "    \"/cellar/users/zkoch/dream/data/tcga/manual_download/CPTAC-3/sample.tsv\",\n",
    "    sep = \"\\t\"\n",
    "    )"
   ]
  },
  {
   "cell_type": "markdown",
   "metadata": {},
   "source": [
    "#### Get everything interesting from sample sheet"
   ]
  },
  {
   "cell_type": "code",
   "execution_count": 16,
   "metadata": {},
   "outputs": [],
   "source": [
    "metadata = sample_sheet[\n",
    "    ['first_case_id','first_sample_id','Data Type','Sample Type' ]\n",
    "    ].copy(deep = True)\n",
    "metadata.columns = ['case_id', 'sample_id', 'data_type', 'sample_type']\n",
    "metadata['data_type'] = metadata['data_type'].map(\n",
    "    {'Gene Expression Quantification': 'expression',\n",
    "     'Masked Somatic Mutation': 'mutation', \n",
    "     'Methylation Beta Value': 'methylation'\n",
    "     })\n",
    "# all sample types are unique \n",
    "metadata['sample_type'] = metadata['sample_type'].str.split(\", \", expand = True)[0]\n",
    "# set all data tyope = mutation rows to have sample_type = 'Primary Tumor, Blood Derived Normal'\n",
    "metadata.loc[metadata['data_type'] == 'mutation', 'sample_type'] = 'Primary Tumor, Blood Derived Normal'"
   ]
  },
  {
   "cell_type": "code",
   "execution_count": 40,
   "metadata": {},
   "outputs": [
    {
     "data": {
      "text/plain": [
       "data_type    sample_type                        \n",
       "expression   Primary Tumor                          1567\n",
       "             Solid Tissue Normal                     653\n",
       "methylation  Primary Tumor                          1289\n",
       "             Solid Tissue Normal                     568\n",
       "             Recurrent Tumor                           1\n",
       "mutation     Primary Tumor, Blood Derived Normal    1277\n",
       "Name: count, dtype: int64"
      ]
     },
     "execution_count": 40,
     "metadata": {},
     "output_type": "execute_result"
    }
   ],
   "source": [
    "metadata.groupby(['data_type'])[['sample_type']].value_counts()"
   ]
  },
  {
   "cell_type": "markdown",
   "metadata": {},
   "source": [
    "#### From biospecimen"
   ]
  },
  {
   "cell_type": "code",
   "execution_count": 52,
   "metadata": {},
   "outputs": [
    {
     "data": {
      "text/plain": [
       "Index(['project_id', 'case_id', 'case_submitter_id', 'sample_id',\n",
       "       'sample_submitter_id', 'biospecimen_anatomic_site',\n",
       "       'biospecimen_laterality', 'catalog_reference', 'composition',\n",
       "       'current_weight', 'days_to_collection', 'days_to_sample_procurement',\n",
       "       'diagnosis_pathologically_confirmed', 'distance_normal_to_tumor',\n",
       "       'distributor_reference', 'freezing_method', 'growth_rate',\n",
       "       'initial_weight', 'intermediate_dimension', 'is_ffpe',\n",
       "       'longest_dimension', 'method_of_sample_procurement', 'oct_embedded',\n",
       "       'passage_count', 'pathology_report_uuid', 'preservation_method',\n",
       "       'sample_ordinal', 'sample_type', 'sample_type_id', 'shortest_dimension',\n",
       "       'specimen_type', 'state', 'time_between_clamping_and_freezing',\n",
       "       'time_between_excision_and_freezing', 'tissue_collection_type',\n",
       "       'tissue_type', 'tumor_code', 'tumor_code_id', 'tumor_descriptor'],\n",
       "      dtype='object')"
      ]
     },
     "execution_count": 52,
     "metadata": {},
     "output_type": "execute_result"
    }
   ],
   "source": [
    "biospecimen_sample.columns"
   ]
  },
  {
   "cell_type": "markdown",
   "metadata": {},
   "source": [
    "#### From clinical"
   ]
  },
  {
   "cell_type": "code",
   "execution_count": 122,
   "metadata": {},
   "outputs": [],
   "source": [
    "cols_we_want = ['case_submitter_id', 'days_to_birth', 'days_to_death','gender', 'race','vital_status','age_at_diagnosis' ,'primary_diagnosis','tissue_or_organ_of_origin']"
   ]
  },
  {
   "cell_type": "code",
   "execution_count": 123,
   "metadata": {},
   "outputs": [],
   "source": [
    "metadata = metadata.merge(\n",
    "    clinical[cols_we_want], left_on='case_id',\n",
    "    right_on='case_submitter_id', how='left'\n",
    "    )"
   ]
  },
  {
   "cell_type": "markdown",
   "metadata": {},
   "source": [
    "#### From followup"
   ]
  },
  {
   "cell_type": "code",
   "execution_count": 139,
   "metadata": {},
   "outputs": [],
   "source": [
    "# drop columns that are all '--\n",
    "followup = followup.drop(\n",
    "    columns = followup.columns[followup.apply(lambda x: x.str.contains('--').all())]\n",
    "    )"
   ]
  },
  {
   "cell_type": "code",
   "execution_count": 164,
   "metadata": {},
   "outputs": [
    {
     "data": {
      "text/plain": [
       "1170"
      ]
     },
     "execution_count": 164,
     "metadata": {},
     "output_type": "execute_result"
    }
   ],
   "source": [
    "len(set(metadata['case_id'].to_list()).intersection(set(followup['case_submitter_id'].to_list())))"
   ]
  },
  {
   "cell_type": "code",
   "execution_count": 170,
   "metadata": {},
   "outputs": [],
   "source": [
    "follow_up_cols_we_want = ['case_submitter_id', 'bmi','height', 'weight', 'comorbidity','days_to_recurrence', 'karnofsky_performance_status','ecog_performance_status']\n",
    "metadata = metadata.merge(\n",
    "    followup[follow_up_cols_we_want], left_on='case_id',\n",
    "    right_on='case_submitter_id', how='left'\n",
    "    )"
   ]
  },
  {
   "cell_type": "markdown",
   "metadata": {},
   "source": [
    "#### General clean up and conversion"
   ]
  },
  {
   "cell_type": "code",
   "execution_count": 182,
   "metadata": {},
   "outputs": [],
   "source": [
    "# replace '-- with np.nan\n",
    "metadata = metadata.replace('\\'--', np.nan)"
   ]
  },
  {
   "cell_type": "code",
   "execution_count": 195,
   "metadata": {},
   "outputs": [],
   "source": [
    "# convert days_to_birth (a string) to years old (a float)\n",
    "metadata['age_at_index'] = -1 * metadata['days_to_birth'].astype(float)/365.25\n",
    "\n",
    "metadata['years_to_death'] = metadata['days_to_death'].astype(float)/365.25\n",
    "metadata['years_to_recurrence'] = metadata['days_to_recurrence'].astype(float)/365.25\n",
    "# drop stuff\n",
    "metadata = metadata.drop(columns = ['days_to_birth', 'days_to_death', 'age_at_diagnosis'])\n",
    "# rename columns\n",
    "metadata = metadata.rename(columns = {'case_submitter_id': 'case_id'})"
   ]
  },
  {
   "cell_type": "code",
   "execution_count": 200,
   "metadata": {},
   "outputs": [
    {
     "data": {
      "text/plain": [
       "Index(['case_id', 'sample_id', 'data_type', 'sample_type', 'gender', 'race',\n",
       "       'vital_status', 'primary_diagnosis', 'tissue_or_organ_of_origin', 'bmi',\n",
       "       'height', 'weight', 'comorbidity', 'karnofsky_performance_status',\n",
       "       'ecog_performance_status', 'age_at_index', 'years_to_death',\n",
       "       'years_to_recurrence'],\n",
       "      dtype='object')"
      ]
     },
     "execution_count": 200,
     "metadata": {},
     "output_type": "execute_result"
    }
   ],
   "source": [
    "metadata.columns"
   ]
  },
  {
   "cell_type": "code",
   "execution_count": 201,
   "metadata": {},
   "outputs": [],
   "source": [
    "metadata = metadata[['case_id', 'sample_id', 'data_type', 'sample_type', 'age_at_index','tissue_or_organ_of_origin', 'gender', 'race',\n",
    "       'vital_status', 'primary_diagnosis',  'bmi',\n",
    "       'height', 'weight', 'comorbidity', 'karnofsky_performance_status',\n",
    "       'ecog_performance_status', 'years_to_death',\n",
    "       'years_to_recurrence'\n",
    "        ]]\n",
    "metadata.reset_index(drop = True, inplace = True)"
   ]
  },
  {
   "cell_type": "code",
   "execution_count": 207,
   "metadata": {},
   "outputs": [],
   "source": [
    "metadata.to_parquet(\"/cellar/users/zkoch/dream/data/tcga/processed_data/CPTAC-3_metadata.parquet\")"
   ]
  }
 ],
 "metadata": {
  "kernelspec": {
   "display_name": "dream_proj",
   "language": "python",
   "name": "python3"
  },
  "language_info": {
   "codemirror_mode": {
    "name": "ipython",
    "version": 3
   },
   "file_extension": ".py",
   "mimetype": "text/x-python",
   "name": "python",
   "nbconvert_exporter": "python",
   "pygments_lexer": "ipython3",
   "version": "3.12.0"
  }
 },
 "nbformat": 4,
 "nbformat_minor": 2
}
