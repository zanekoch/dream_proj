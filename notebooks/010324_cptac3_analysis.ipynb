{
 "cells": [
  {
   "cell_type": "code",
   "execution_count": 7,
   "metadata": {},
   "outputs": [
    {
     "name": "stdout",
     "output_type": "stream",
     "text": [
      "The autoreload extension is already loaded. To reload it, use:\n",
      "  %reload_ext autoreload\n"
     ]
    }
   ],
   "source": [
    "# use dream_proj conda environment\n",
    "import pandas as pd\n",
    "import numpy as np\n",
    "import os\n",
    "import sys\n",
    "import seaborn as sns\n",
    "import matplotlib.pyplot as plt\n",
    "import glob\n",
    "# auto reload source files\n",
    "%load_ext autoreload\n",
    "%autoreload 2\n",
    "# add source directory to path\n",
    "source_path = os.path.abspath(os.path.join('..'))\n",
    "if source_path not in sys.path:\n",
    "    sys.path.append(os.path.join(source_path, 'source'))\n",
    "# read source files\n",
    "import read_data"
   ]
  },
  {
   "cell_type": "code",
   "execution_count": 5,
   "metadata": {},
   "outputs": [
    {
     "name": "stdout",
     "output_type": "stream",
     "text": [
      "Loading dataset: mSalt\n"
     ]
    }
   ],
   "source": [
    "loader = read_data.DatasetLoader(\"mSalt\")\n",
    "across_species, treated_mice = loader.load_dataset()"
   ]
  },
  {
   "cell_type": "code",
   "execution_count": 9,
   "metadata": {},
   "outputs": [],
   "source": [
    "processed_data_dir = \"/cellar/users/zkoch/dream/data/tcga/processed_data\"\n",
    "\n",
    "dataset_files = glob.glob(os.path.join(processed_data_dir, \"CPTAC-3\" +  \"*\"))\n"
   ]
  },
  {
   "cell_type": "code",
   "execution_count": 10,
   "metadata": {},
   "outputs": [
    {
     "data": {
      "text/plain": [
       "['/cellar/users/zkoch/dream/data/tcga/processed_data/CPTAC-3_metadata.parquet',\n",
       " '/cellar/users/zkoch/dream/data/tcga/processed_data/CPTAC-3_expression.parquet',\n",
       " '/cellar/users/zkoch/dream/data/tcga/processed_data/CPTAC-3_methylation_dask.parquet',\n",
       " '/cellar/users/zkoch/dream/data/tcga/processed_data/CPTAC-3_mutation.parquet',\n",
       " '/cellar/users/zkoch/dream/data/tcga/processed_data/CPTAC-3_methylation.parquet']"
      ]
     },
     "execution_count": 10,
     "metadata": {},
     "output_type": "execute_result"
    }
   ],
   "source": [
    "dataset_files"
   ]
  },
  {
   "cell_type": "code",
   "execution_count": 17,
   "metadata": {},
   "outputs": [
    {
     "name": "stdout",
     "output_type": "stream",
     "text": [
      "Loading dataset: CPTAC-3\n",
      "Loaded metadata for CPTAC-3\n",
      "Created ExpressionDataset for CPTAC-3\n",
      "Created MutationDataset for CPTAC-3\n",
      "reading dask methylation df\n",
      "Created MethylationDataset for CPTAC-3\n"
     ]
    }
   ],
   "source": [
    "loader = read_data.DatasetLoader(\"CPTAC-3\")\n",
    "cptac_expr, cptac_mut, cptac_methyl = loader.load_dataset()"
   ]
  }
 ],
 "metadata": {
  "kernelspec": {
   "display_name": "dream_proj",
   "language": "python",
   "name": "python3"
  },
  "language_info": {
   "codemirror_mode": {
    "name": "ipython",
    "version": 3
   },
   "file_extension": ".py",
   "mimetype": "text/x-python",
   "name": "python",
   "nbconvert_exporter": "python",
   "pygments_lexer": "ipython3",
   "version": "3.12.0"
  }
 },
 "nbformat": 4,
 "nbformat_minor": 2
}
